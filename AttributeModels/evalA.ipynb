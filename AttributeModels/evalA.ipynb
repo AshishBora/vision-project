{
 "cells": [
  {
   "cell_type": "code",
   "execution_count": 143,
   "metadata": {
    "collapsed": false
   },
   "outputs": [],
   "source": [
    "require 'nngraph'\n",
    "require 'image';\n",
    "\n",
    "\n",
    "-- function to get an example for evaluating A\n",
    "function getExample_A(set)\n",
    "\n",
    "    -- randomly select two images from the set\n",
    "    local y = torch.randperm((#set)[1])\n",
    "    local input = {}\n",
    "    input[1] = set[y[1]]\n",
    "    input[2] = set[y[2]]\n",
    "    return input, y[1], y[2]\n",
    "end"
   ]
  },
  {
   "cell_type": "code",
   "execution_count": 145,
   "metadata": {
    "collapsed": false,
    "scrolled": false
   },
   "outputs": [
    {
     "data": {
      "text/plain": [
       "26\t\n",
       "26\t\n",
       "26\t\n"
      ]
     },
     "execution_count": 145,
     "metadata": {},
     "output_type": "execute_result"
    },
    {
     "data": {
      "text/plain": [
       "26\t\n",
       "26\t\n"
      ]
     },
     "execution_count": 145,
     "metadata": {},
     "output_type": "execute_result"
    },
    {
     "data": {
      "text/plain": [
       "26\t\n",
       "26\t\n"
      ]
     },
     "execution_count": 145,
     "metadata": {},
     "output_type": "execute_result"
    },
    {
     "data": {
      "text/plain": [
       "26\t\n",
       "26\t\n",
       "26\t\n"
      ]
     },
     "execution_count": 145,
     "metadata": {},
     "output_type": "execute_result"
    },
    {
     "data": {
      "text/plain": [
       "26\t\n",
       "26\t\n",
       "26\t\n"
      ]
     },
     "execution_count": 145,
     "metadata": {},
     "output_type": "execute_result"
    },
    {
     "data": {
      "text/plain": [
       "26\t\n"
      ]
     },
     "execution_count": 145,
     "metadata": {},
     "output_type": "execute_result"
    },
    {
     "data": {
      "text/plain": [
       "26\t\n",
       "26\t\n"
      ]
     },
     "execution_count": 145,
     "metadata": {},
     "output_type": "execute_result"
    },
    {
     "data": {
      "text/plain": [
       "26\t\n",
       "26\t\n"
      ]
     },
     "execution_count": 145,
     "metadata": {},
     "output_type": "execute_result"
    },
    {
     "data": {
      "text/plain": [
       "26\t\n",
       "26\t\n"
      ]
     },
     "execution_count": 145,
     "metadata": {},
     "output_type": "execute_result"
    },
    {
     "data": {
      "text/plain": [
       "26\t\n",
       "26\t\n"
      ]
     },
     "execution_count": 145,
     "metadata": {},
     "output_type": "execute_result"
    },
    {
     "data": {
      "text/plain": [
       "26\t\n",
       "26\t\n"
      ]
     },
     "execution_count": 145,
     "metadata": {},
     "output_type": "execute_result"
    },
    {
     "data": {
      "text/plain": [
       "26\t\n",
       "26\t\n"
      ]
     },
     "execution_count": 145,
     "metadata": {},
     "output_type": "execute_result"
    },
    {
     "data": {
      "text/plain": [
       "26\t\n",
       "26\t\n"
      ]
     },
     "execution_count": 145,
     "metadata": {},
     "output_type": "execute_result"
    },
    {
     "data": {
      "text/plain": [
       "26\t\n",
       "26\t\n",
       "26\t\n"
      ]
     },
     "execution_count": 145,
     "metadata": {},
     "output_type": "execute_result"
    },
    {
     "data": {
      "text/plain": [
       "26\t\n",
       "26\t\n"
      ]
     },
     "execution_count": 145,
     "metadata": {},
     "output_type": "execute_result"
    },
    {
     "data": {
      "text/plain": [
       "26\t\n",
       "26\t\n",
       "26\t\n"
      ]
     },
     "execution_count": 145,
     "metadata": {},
     "output_type": "execute_result"
    },
    {
     "data": {
      "text/plain": [
       "26\t\n",
       "26\t\n"
      ]
     },
     "execution_count": 145,
     "metadata": {},
     "output_type": "execute_result"
    },
    {
     "data": {
      "text/plain": [
       "26\t\n"
      ]
     },
     "execution_count": 145,
     "metadata": {},
     "output_type": "execute_result"
    },
    {
     "data": {
      "text/plain": [
       "26\t\n",
       "26\t\n"
      ]
     },
     "execution_count": 145,
     "metadata": {},
     "output_type": "execute_result"
    },
    {
     "data": {
      "text/plain": [
       "26\t\n"
      ]
     },
     "execution_count": 145,
     "metadata": {},
     "output_type": "execute_result"
    },
    {
     "data": {
      "text/plain": [
       "26\t\n"
      ]
     },
     "execution_count": 145,
     "metadata": {},
     "output_type": "execute_result"
    },
    {
     "data": {
      "text/plain": [
       "26\t\n",
       "26\t\n"
      ]
     },
     "execution_count": 145,
     "metadata": {},
     "output_type": "execute_result"
    },
    {
     "data": {
      "text/plain": [
       "26\t\n",
       "26\t\n"
      ]
     },
     "execution_count": 145,
     "metadata": {},
     "output_type": "execute_result"
    },
    {
     "data": {
      "text/plain": [
       "26\t\n",
       "26\t\n"
      ]
     },
     "execution_count": 145,
     "metadata": {},
     "output_type": "execute_result"
    },
    {
     "data": {
      "text/plain": [
       "26\t\n",
       "26\t\n",
       "26\t\n"
      ]
     },
     "execution_count": 145,
     "metadata": {},
     "output_type": "execute_result"
    },
    {
     "data": {
      "text/plain": [
       "26\t\n"
      ]
     },
     "execution_count": 145,
     "metadata": {},
     "output_type": "execute_result"
    },
    {
     "data": {
      "text/plain": [
       "26\t\n"
      ]
     },
     "execution_count": 145,
     "metadata": {},
     "output_type": "execute_result"
    },
    {
     "data": {
      "text/plain": [
       "26\t\n",
       "26\t\n"
      ]
     },
     "execution_count": 145,
     "metadata": {},
     "output_type": "execute_result"
    },
    {
     "data": {
      "text/plain": [
       "26\t\n",
       "26\t\n",
       "26\t"
      ]
     },
     "execution_count": 145,
     "metadata": {},
     "output_type": "execute_result"
    },
    {
     "data": {
      "text/plain": [
       "\n",
       "26\t\n",
       "26\t\n"
      ]
     },
     "execution_count": 145,
     "metadata": {},
     "output_type": "execute_result"
    },
    {
     "data": {
      "text/plain": [
       "26\t\n",
       "26\t\n",
       "26\t\n"
      ]
     },
     "execution_count": 145,
     "metadata": {},
     "output_type": "execute_result"
    },
    {
     "data": {
      "text/plain": [
       "26\t\n",
       "26\t\n",
       "26\t\n"
      ]
     },
     "execution_count": 145,
     "metadata": {},
     "output_type": "execute_result"
    },
    {
     "data": {
      "text/plain": [
       "26\t\n",
       "26\t\n",
       "26\t\n"
      ]
     },
     "execution_count": 145,
     "metadata": {},
     "output_type": "execute_result"
    },
    {
     "data": {
      "text/plain": [
       "26\t\n",
       "26\t\n",
       "26\t\n"
      ]
     },
     "execution_count": 145,
     "metadata": {},
     "output_type": "execute_result"
    },
    {
     "data": {
      "text/plain": [
       "26\t\n"
      ]
     },
     "execution_count": 145,
     "metadata": {},
     "output_type": "execute_result"
    },
    {
     "data": {
      "text/plain": [
       "26\t\n",
       "26\t\n"
      ]
     },
     "execution_count": 145,
     "metadata": {},
     "output_type": "execute_result"
    },
    {
     "data": {
      "text/plain": [
       "26\t\n",
       "26\t\n"
      ]
     },
     "execution_count": 145,
     "metadata": {},
     "output_type": "execute_result"
    },
    {
     "data": {
      "text/plain": [
       "26\t\n",
       "26\t\n"
      ]
     },
     "execution_count": 145,
     "metadata": {},
     "output_type": "execute_result"
    },
    {
     "data": {
      "text/plain": [
       "26\t\n",
       "26\t\n"
      ]
     },
     "execution_count": 145,
     "metadata": {},
     "output_type": "execute_result"
    },
    {
     "data": {
      "text/plain": [
       "26\t\n"
      ]
     },
     "execution_count": 145,
     "metadata": {},
     "output_type": "execute_result"
    },
    {
     "data": {
      "text/plain": [
       "26\t\n",
       "26\t\n"
      ]
     },
     "execution_count": 145,
     "metadata": {},
     "output_type": "execute_result"
    },
    {
     "data": {
      "text/plain": [
       "26\t\n"
      ]
     },
     "execution_count": 145,
     "metadata": {},
     "output_type": "execute_result"
    },
    {
     "data": {
      "text/plain": [
       "26\t\n"
      ]
     },
     "execution_count": 145,
     "metadata": {},
     "output_type": "execute_result"
    },
    {
     "data": {
      "text/plain": [
       "26\t\n"
      ]
     },
     "execution_count": 145,
     "metadata": {},
     "output_type": "execute_result"
    },
    {
     "data": {
      "text/plain": [
       "26\t\n"
      ]
     },
     "execution_count": 145,
     "metadata": {},
     "output_type": "execute_result"
    },
    {
     "data": {
      "text/plain": [
       "26\t\n"
      ]
     },
     "execution_count": 145,
     "metadata": {},
     "output_type": "execute_result"
    },
    {
     "data": {
      "text/plain": [
       "26\t\n"
      ]
     },
     "execution_count": 145,
     "metadata": {},
     "output_type": "execute_result"
    },
    {
     "data": {
      "text/plain": [
       "26\t\n"
      ]
     },
     "execution_count": 145,
     "metadata": {},
     "output_type": "execute_result"
    },
    {
     "data": {
      "text/plain": [
       "26\t\n"
      ]
     },
     "execution_count": 145,
     "metadata": {},
     "output_type": "execute_result"
    },
    {
     "data": {
      "text/plain": [
       "26\t\n",
       "26\t\n"
      ]
     },
     "execution_count": 145,
     "metadata": {},
     "output_type": "execute_result"
    },
    {
     "data": {
      "text/plain": [
       "26\t\n"
      ]
     },
     "execution_count": 145,
     "metadata": {},
     "output_type": "execute_result"
    },
    {
     "data": {
      "text/plain": [
       "26\t\n",
       "26\t\n"
      ]
     },
     "execution_count": 145,
     "metadata": {},
     "output_type": "execute_result"
    },
    {
     "data": {
      "text/plain": [
       "26\t\n"
      ]
     },
     "execution_count": 145,
     "metadata": {},
     "output_type": "execute_result"
    },
    {
     "data": {
      "text/plain": [
       "26\t\n"
      ]
     },
     "execution_count": 145,
     "metadata": {},
     "output_type": "execute_result"
    }
   ],
   "source": [
    "feat_vecs_test = torch.load('feat_vecs_test.t7')\n",
    "probs_test_gt = torch.load('probs_test_gt.t7')\n",
    "A_model = torch.load('A_model__400.t7')\n",
    "A_model:double()\n",
    "B_model = torch.load('B_model_nn.t7')\n",
    "C_model = torch.load('C_model__10000_init.t7')\n",
    "\n",
    "base_path = '/Users/ashish/vision-project/data/SUN/SUN_WS/test/sun_ws_test_'\n",
    "\n",
    "oneTo42 = torch.Tensor(42)\n",
    "i = 0\n",
    "oneTo42:apply(function()\n",
    "  i = i + 1\n",
    "  return i\n",
    "end)\n",
    "\n",
    "num_eval = 100\n",
    "for i = 1, num_eval do\n",
    "    input, y1, y2 = getExample_A(feat_vecs_test)\n",
    "    question = A_model:forward({input[1], input[2]})\n",
    "    question = torch.reshape(question, torch.LongStorage{42})\n",
    "--     plot = Plot():line(oneTo42, question , 'red','example'):legend(true):title('Line Plot Demo'):draw()\n",
    "--     print(question:size())\n",
    " \n",
    "--     path1 =  base_path .. tostring(y1) .. '.jpg'\n",
    "--     path2 =  base_path .. tostring(y2) .. '.jpg'\n",
    "--     image1 = image.load(path1, 3, 'float')\n",
    "--     image2 = image.load(path2, 3, 'float')\n",
    "--     itorch.image({image1, image2})\n",
    "    \n",
    "    maxs, indices = torch.max(question, 1)\n",
    "--     print(maxs[1])\n",
    "    print(indices[1])\n",
    "    \n",
    "end"
   ]
  },
  {
   "cell_type": "code",
   "execution_count": 146,
   "metadata": {
    "collapsed": false,
    "scrolled": false
   },
   "outputs": [
    {
     "data": {
      "text/plain": [
       "0.63953938094525\t\n",
       "0.56670701672044\t\n",
       "0.58149517087233\t\n",
       "0.60776900387895\t\n",
       "0.55568232959048\t\n",
       "0.57280138979305\t\n",
       "0.56906099639081\t\n",
       "0.61118595295501\t\n",
       "0.71362290188848\t\n",
       "0.58926781545592\t\n",
       "0.55828249004291\t\n",
       "0.62527591311177\t\n",
       "0.59070655745242\t\n",
       "0.61625628813499\t\n",
       "0.61519016589157\t\n",
       "0.57533756083607\t\n",
       "0.5705727118041\t\n",
       "0.58266917728386\t\n",
       "0.58349482141075\t\n",
       "0.61950046519904\t\n",
       "0.54979237454958\t\n",
       "0.58711780070176\t\n",
       "0.56696150424647\t\n",
       "0.62589345886174\t\n",
       "0.56966397353536\t\n",
       "1.6981961292342\t\n",
       "0.56939292401293\t\n",
       "0.56520648375399\t\n",
       "0.56184546293672\t\n",
       "0.62737827746817\t\n",
       "0.57916702099015\t\n",
       "0.58499350051318\t\n",
       "0.62447078930846\t\n",
       "0.60346689987547\t\n",
       "0.58255934811185\t\n",
       "0.58329418583494\t\n",
       "0.59059159722708\t\n",
       "0.61016510685166\t\n",
       "0.56700213686652\t\n",
       "0.57729425824327\t\n",
       "0.56127697721686\t\n",
       "0.600554022215\t\n"
      ]
     },
     "execution_count": 146,
     "metadata": {},
     "output_type": "execute_result"
    }
   ],
   "source": [
    "for i = 1, 42 do\n",
    "    print(torch.norm(A_model.modules[8].weight[{{i}, {1,84}}]))\n",
    "end"
   ]
  },
  {
   "cell_type": "code",
   "execution_count": 120,
   "metadata": {
    "collapsed": false
   },
   "outputs": [],
   "source": [
    "-- y1gt = probs_test_gt[{{y1}, {1,42}}]\n",
    "-- y2gt = probs_test_gt[{{y2}, {1,42}}]\n",
    "\n",
    "-- print((y1gt - y2gt))"
   ]
  },
  {
   "cell_type": "code",
   "execution_count": 27,
   "metadata": {
    "collapsed": true
   },
   "outputs": [],
   "source": [
    "labels = {'vegetation',\n",
    "          'shrubbery',\n",
    "          'foliage',\n",
    "          'leaves',\n",
    "          'shingles',\n",
    "          'concrete',\n",
    "          'metal',\n",
    "          'paper',\n",
    "          'wood',\n",
    "          'vinyl',\n",
    "          'rubber',\n",
    "          'cloth',\n",
    "          'sand',\n",
    "          'rock',\n",
    "          'dirt',\n",
    "          'marble',\n",
    "          'glass',\n",
    "          'waves',\n",
    "          'running_water',\n",
    "          'still_water',\n",
    "          'snow',\n",
    "          'natural_light',\n",
    "          'direct_sun',\n",
    "          'electric',\n",
    "          'aged',\n",
    "          'glossy',\n",
    "          'matte',\n",
    "          'moist',\n",
    "          'dry',\n",
    "          'dirty',\n",
    "          'rusty',\n",
    "          'warm',\n",
    "          'cold',\n",
    "          'natural',\n",
    "          'man_made',\n",
    "          'open_area',\n",
    "          'far_away_horizon',\n",
    "          'rugged_scene',\n",
    "          'symmetrical',\n",
    "          'cluttered_space',\n",
    "          'scary',\n",
    "          'soothing'}"
   ]
  },
  {
   "cell_type": "code",
   "execution_count": 88,
   "metadata": {
    "collapsed": false
   },
   "outputs": [
    {
     "data": {
      "text/plain": [
       "dirt\t\n"
      ]
     },
     "execution_count": 88,
     "metadata": {},
     "output_type": "execute_result"
    }
   ],
   "source": [
    "labels[15]"
   ]
  },
  {
   "cell_type": "code",
   "execution_count": null,
   "metadata": {
    "collapsed": true
   },
   "outputs": [],
   "source": []
  }
 ],
 "metadata": {
  "kernelspec": {
   "display_name": "iTorch",
   "language": "lua",
   "name": "itorch"
  },
  "language_info": {
   "name": "lua",
   "version": "5.1"
  }
 },
 "nbformat": 4,
 "nbformat_minor": 0
}
