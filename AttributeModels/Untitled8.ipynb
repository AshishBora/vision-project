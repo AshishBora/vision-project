{
 "cells": [
  {
   "cell_type": "code",
   "execution_count": 1,
   "metadata": {
    "collapsed": true
   },
   "outputs": [],
   "source": [
    "require 'nngraph';\n",
    "\n",
    "\n",
    "function createCModel(getAttScores)\n",
    "    local image_feat1 = nn.Identity()();\n",
    "    local image_feat2 = nn.Identity()();\n",
    "    local question = nn.Identity()();\n",
    "    local confidence = nn.Identity()();\n",
    "\n",
    "    local getAttScores1 = getAttScores:clone()\n",
    "    local getAttScores2 = getAttScores1:clone('weight','bias', 'gradWeight','gradBias')\n",
    "\n",
    "    local attScores1 = getAttScores1(image_feat1)\n",
    "    local attScores2 = getAttScores2(image_feat2)\n",
    "\n",
    "    local conf_pred1 = nn.DotProduct()({attScores1, question})\n",
    "    local conf_pred2 = nn.DotProduct()({attScores2, question})\n",
    "\n",
    "    local conf_pred11 = nn.View(-1, 1)(conf_pred1);\n",
    "    local conf_pred22 = nn.View(-1, 1)(conf_pred2);\n",
    "    local confidence11 = nn.View(-1, 1)(confidence);\n",
    "\n",
    "    local input = nn.JoinTable(2)({conf_pred11, conf_pred22, confidence11});\n",
    "\n",
    "    local y = nn.Sequential()\n",
    "    y:add(nn.Linear(3, 2))\n",
    "    y:add(nn.Abs())\n",
    "    y:add(nn.Linear(2,1))\n",
    "    y:add(nn.Sigmoid())\n",
    "\n",
    "    local prob = y(input);\n",
    "\n",
    "    nngraph.annotateNodes();\n",
    "    return nn.gModule({image_feat1, image_feat2, question, confidence}, {prob});\n",
    "end\n",
    "\n",
    "B_model = torch.load('B_model_nn.t7')\n",
    "getAttScores = B_model.modules[2]\n",
    "-- C_model = createCModel(getAttScores)\n",
    "-- torch.save('C_model.t7', C_model)"
   ]
  },
  {
   "cell_type": "code",
   "execution_count": 2,
   "metadata": {
    "collapsed": false
   },
   "outputs": [
    {
     "data": {
      "text/plain": [
       "nn.Sequential {\n",
       "  [input -> (1) -> (2) -> (3) -> (4) -> output]\n",
       "  (1): nn.ReLU\n",
       "  (2): nn.Dropout(0.500000)\n",
       "  (3): nn.Linear(4096 -> 42)\n",
       "  (4): nn.Sigmoid\n",
       "}\n",
       "{\n",
       "  gradInput : FloatTensor - empty\n",
       "  modules : \n",
       "    {\n",
       "      1 : \n",
       "        nn.ReLU\n",
       "        {\n",
       "          inplace : true\n",
       "          threshold : 0\n",
       "          _type : torch.FloatTensor\n",
       "          output : FloatTensor - empty\n",
       "          gradInput : FloatTensor - empty\n",
       "          name : relu7\n",
       "          val : 0\n",
       "        }\n",
       "      2 : \n",
       "        nn.Dropout(0.500000)\n",
       "        {\n",
       "          v2 : true\n",
       "          noise : FloatTensor - empty\n",
       "          _type : torch.FloatTensor\n",
       "          p : 0.5\n",
       "          gradInput : FloatTensor - empty\n",
       "          output : FloatTensor - empty\n",
       "          train : true\n",
       "          name : drop7\n",
       "        }\n",
       "      3 : \n",
       "        nn.Linear(4096 -> 42)\n",
       "        {\n",
       "          gradBias : FloatTensor - size: 42\n",
       "          weight : FloatTensor - size: 42x4096\n",
       "          _type : torch.FloatTensor\n",
       "          output : FloatTensor - empty\n",
       "          gradInput : FloatTensor - empty\n",
       "          gradWeight : FloatTensor - size: 42x4096\n",
       "          bias : FloatTensor - size: 42\n",
       "          name : fc8\n",
       "        }\n",
       "      4 : \n",
       "        nn.Sigmoid\n",
       "        {\n",
       "          gradInput : DoubleTensor - empty\n",
       "          _type : torch.DoubleTensor\n",
       "          output : DoubleTensor - empty\n",
       "        }\n",
       "    }\n",
       "  _type : torch.DoubleTensor\n",
       "  output : DoubleTensor - empty\n",
       "}\n"
      ]
     },
     "execution_count": 2,
     "metadata": {},
     "output_type": "execute_result"
    }
   ],
   "source": [
    "B_mo"
   ]
  },
  {
   "cell_type": "code",
   "execution_count": null,
   "metadata": {
    "collapsed": true
   },
   "outputs": [],
   "source": []
  }
 ],
 "metadata": {
  "kernelspec": {
   "display_name": "iTorch",
   "language": "lua",
   "name": "itorch"
  },
  "language_info": {
   "name": "lua",
   "version": "5.1"
  }
 },
 "nbformat": 4,
 "nbformat_minor": 0
}
