{
 "cells": [
  {
   "cell_type": "code",
   "execution_count": 1,
   "metadata": {
    "collapsed": false
   },
   "outputs": [],
   "source": [
    "require 'nngraph'\n",
    "\n",
    "C_model_old = torch.load('C_model__1500_init.t7')\n",
    "C_model_temp = torch.load('C_model_temp.t7')\n",
    "\n",
    "C_model_old:double()\n",
    "C_model_temp:double()"
   ]
  },
  {
   "cell_type": "code",
   "execution_count": 54,
   "metadata": {
    "collapsed": false,
    "scrolled": false
   },
   "outputs": [
    {
     "data": {
      "text/plain": [
       "0\t\n"
      ]
     },
     "execution_count": 54,
     "metadata": {},
     "output_type": "execute_result"
    }
   ],
   "source": [
    "diff = C_model_old.modules[10].modules[1].weight - C_model_temp.modules[13].modules[1].weight\n",
    "print(torch.max(torch.abs(diff)))"
   ]
  },
  {
   "cell_type": "code",
   "execution_count": 55,
   "metadata": {
    "collapsed": false
   },
   "outputs": [
    {
     "data": {
      "text/plain": [
       "0\t\n"
      ]
     },
     "execution_count": 55,
     "metadata": {},
     "output_type": "execute_result"
    }
   ],
   "source": [
    "diff = C_model_old.modules[10].modules[3].weight - C_model_temp.modules[13].modules[3].weight\n",
    "print(torch.max(torch.abs(diff)))"
   ]
  },
  {
   "cell_type": "code",
   "execution_count": 56,
   "metadata": {
    "collapsed": false
   },
   "outputs": [
    {
     "data": {
      "text/plain": [
       "0\t\n"
      ]
     },
     "execution_count": 56,
     "metadata": {},
     "output_type": "execute_result"
    }
   ],
   "source": [
    "diff = C_model_old.modules[10].modules[1].bias - C_model_temp.modules[13].modules[1].bias\n",
    "print(torch.max(torch.abs(diff)))"
   ]
  },
  {
   "cell_type": "code",
   "execution_count": 57,
   "metadata": {
    "collapsed": false
   },
   "outputs": [
    {
     "data": {
      "text/plain": [
       "0\t\n"
      ]
     },
     "execution_count": 57,
     "metadata": {},
     "output_type": "execute_result"
    }
   ],
   "source": [
    "diff = C_model_old.modules[10].modules[3].bias - C_model_temp.modules[13].modules[3].bias\n",
    "print(torch.max(torch.abs(diff)))"
   ]
  },
  {
   "cell_type": "code",
   "execution_count": 58,
   "metadata": {
    "collapsed": false,
    "scrolled": false
   },
   "outputs": [],
   "source": [
    "a = C_model_old.modules[2].modules[3].weight\n",
    "b = C_model_old.modules[6].modules[3].weight\n",
    "\n",
    "c = C_model_temp.modules[2].modules[3].weight\n",
    "d = C_model_temp.modules[7].modules[3].weight"
   ]
  },
  {
   "cell_type": "code",
   "execution_count": 63,
   "metadata": {
    "collapsed": false
   },
   "outputs": [],
   "source": [
    "diff1 = a - b\n",
    "diff2 = b - c\n",
    "diff3 = c - d"
   ]
  },
  {
   "cell_type": "code",
   "execution_count": 64,
   "metadata": {
    "collapsed": false
   },
   "outputs": [
    {
     "data": {
      "text/plain": [
       "0\t\n"
      ]
     },
     "execution_count": 64,
     "metadata": {},
     "output_type": "execute_result"
    },
    {
     "data": {
      "text/plain": [
       "0\t\n",
       "0\t\n"
      ]
     },
     "execution_count": 64,
     "metadata": {},
     "output_type": "execute_result"
    }
   ],
   "source": [
    "print(torch.max(torch.abs(diff1)))\n",
    "print(torch.max(torch.abs(diff2)))\n",
    "print(torch.max(torch.abs(diff3)))"
   ]
  },
  {
   "cell_type": "code",
   "execution_count": 65,
   "metadata": {
    "collapsed": false
   },
   "outputs": [
    {
     "data": {
      "text/plain": [
       "   42\n",
       " 4096\n",
       "[torch.LongStorage of size 2]\n",
       "\n",
       "   42\n",
       " 4096\n",
       "[torch.LongStorage of size 2]\n",
       "\n",
       "   42\n",
       " 4096\n",
       "[torch.LongStorage of size 2]\n",
       "\n",
       "   42\n",
       " 4096\n",
       "[torch.LongStorage of size 2]\n",
       "\n"
      ]
     },
     "execution_count": 65,
     "metadata": {},
     "output_type": "execute_result"
    }
   ],
   "source": [
    "print(a:size())\n",
    "print(b:size())\n",
    "print(c:size())\n",
    "print(d:size())"
   ]
  },
  {
   "cell_type": "code",
   "execution_count": 2,
   "metadata": {
    "collapsed": false,
    "scrolled": false
   },
   "outputs": [
    {
     "data": {
      "text/plain": [
       "{\n",
       "  1 : \n",
       "    nn.Identity\n",
       "    {\n",
       "      gradInput : DoubleTensor - empty\n",
       "      train : false\n",
       "      _type : torch.DoubleTensor\n",
       "      output : DoubleTensor - empty\n",
       "    }\n",
       "  2 : \n",
       "    nn.Sequential {\n",
       "      [input -> (1) -> (2) -> (3) -> (4) -> output]\n",
       "      (1): nn.ReLU\n",
       "      (2): nn.Dropout(0.500000)\n",
       "      (3): nn.Linear(4096 -> 42)\n",
       "      (4): nn.Sigmoid\n",
       "    }\n",
       "    {\n",
       "      _type : torch.DoubleTensor\n",
       "      output : DoubleTensor - empty\n",
       "      gradInput : DoubleTensor - empty\n",
       "      modules : \n",
       "        {\n",
       "          1 : \n",
       "            nn.ReLU\n",
       "            {\n",
       "              inplace : true\n",
       "              threshold : 0\n",
       "              _type : torch.DoubleTensor\n",
       "              output : DoubleTensor - empty\n",
       "              gradInput : DoubleTensor - empty\n",
       "              train : false\n",
       "              name : relu7\n",
       "              val : 0\n",
       "            }\n",
       "          2 : \n",
       "            nn.Dropout(0.500000)\n",
       "            {\n",
       "              v2 : true\n",
       "              noise : DoubleTensor - empty\n",
       "              _type : torch.DoubleTensor\n",
       "              p : 0.5\n",
       "              gradInput : DoubleTensor - empty\n",
       "              output : DoubleTensor - empty\n",
       "              train : false\n",
       "              name : drop7\n",
       "            }\n",
       "          3 : \n",
       "            nn.Linear(4096 -> 42)\n",
       "            {\n",
       "              gradBias : DoubleTensor - size: 42\n",
       "              output : DoubleTensor - empty\n",
       "              gradInput : DoubleTensor - empty\n",
       "              weight : DoubleTensor - size: 42x4096\n",
       "              _type : torch.DoubleTensor\n",
       "              gradWeight : DoubleTensor - size: 42x4096\n",
       "              accUpdateGradParameters : function: 0x0d893210\n",
       "   "
      ]
     },
     "execution_count": 2,
     "metadata": {},
     "output_type": "execute_result"
    },
    {
     "data": {
      "text/plain": [
       "           train : false\n",
       "              name : fc8\n",
       "              bias : DoubleTensor - size: 42\n",
       "            }\n",
       "          4 : \n",
       "            nn.Sigmoid\n",
       "            {\n",
       "              gradInput : DoubleTensor - empty\n",
       "              train : false\n",
       "              _type : torch.DoubleTensor\n",
       "              output : DoubleTensor - empty\n",
       "            }\n",
       "        }\n",
       "      train : false\n",
       "    }\n",
       "  3 : \n",
       "    nn.Identity\n",
       "    {\n",
       "      gradInput : DoubleTensor - empty\n",
       "      train : false\n",
       "      _type : torch.DoubleTensor\n",
       "      output : DoubleTensor - empty\n",
       "    }\n",
       "  4 : \n",
       "    nn.DotProduct\n",
       "    {\n",
       "      train : false\n",
       "      output : DoubleTensor - empty\n",
       "      gradInput : table: 0x0db3a1a0\n",
       "      buffer : DoubleTensor - empty\n",
       "      _type : torch.DoubleTensor\n",
       "    }\n",
       "  5 : \n",
       "    nn.Identity\n",
       "    {\n",
       "      gradInput : DoubleTensor - empty\n",
       "      train : false\n",
       "      _type : torch.DoubleTensor\n",
       "      output : DoubleTensor - empty\n",
       "    }\n",
       "  6 : \n",
       "    nn.Sequential {\n",
       "      [input -> (1) -> (2) -> (3) -> (4) -> output]\n",
       "      (1): nn.ReLU\n",
       "      (2): nn.Dropout(0.500000)\n",
       "      (3): nn.Linear(4096 -> 42)\n",
       "      (4): nn.Sigmoid\n",
       "    }\n",
       "    {\n",
       "      _type : torch.DoubleTensor\n",
       "      output : DoubleTensor - empty\n",
       "      gradInput : DoubleTensor - empty\n",
       "      modules : \n",
       "        {\n",
       "          1 : \n",
       "            nn.ReLU\n",
       "            {\n",
       "              inplace : true\n",
       "              threshold : 0\n",
       "              _type : torch.DoubleTensor\n",
       "              output : DoubleTensor - empty\n",
       "              gradInput : DoubleTensor - empty\n",
       "              train : false\n",
       "              val : 0\n",
       "              name : relu7\n",
       "            }\n",
       "          2 : \n",
       "            nn.Dropout(0.500000)\n",
       "            {\n",
       "              v2 : true\n",
       "              noise : DoubleTensor - empty\n",
       "              _type : torch.DoubleTensor\n",
       "              p : 0.5\n",
       "              gradInput : DoubleTensor - empty\n",
       "              name : drop7\n",
       "              train : false\n",
       "              output : DoubleTensor - empty\n",
       "            }\n",
       "          3 : \n",
       "            nn.Linear(4096 -> 42)\n",
       "            {\n",
       "              gradBias : DoubleTensor - size: 42\n",
       "              output : DoubleTensor - empty\n",
       "              gradInput : DoubleTensor - empty\n",
       "              weight : DoubleTensor - size: 42x4096\n",
       "              _type : torch.DoubleTensor\n",
       "              gradWeight : DoubleTensor - size: 42x4096\n",
       "              accUpdateGradParameters : function: 0x0d893210\n",
       "              train : false\n",
       "              bias : DoubleTensor - size: 42\n",
       "              name : fc8\n",
       "            }\n",
       "          4 : \n",
       "            nn.Sigmoid\n",
       "            {\n",
       "              gradInput : DoubleTensor - empty\n",
       "              train : false\n"
      ]
     },
     "execution_count": 2,
     "metadata": {},
     "output_type": "execute_result"
    },
    {
     "data": {
      "text/plain": [
       "              _type : torch.DoubleTensor\n",
       "              output : DoubleTensor - empty\n",
       "            }\n",
       "        }\n",
       "      train : false\n",
       "    }\n",
       "  7 : \n",
       "    nn.DotProduct\n",
       "    {\n",
       "      train : false\n",
       "      output : DoubleTensor - empty\n",
       "      gradInput : table: 0x0d894158\n",
       "      buffer : DoubleTensor - empty\n",
       "      _type : torch.DoubleTensor\n",
       "    }\n",
       "  8 : \n",
       "    nn.Identity\n",
       "    {\n",
       "      gradInput : DoubleTensor - empty\n",
       "      train : false\n",
       "      _type : torch.DoubleTensor\n",
       "      output : DoubleTensor - empty\n",
       "    }\n",
       "  9 : \n",
       "    nn.JoinTable\n",
       "    {\n",
       "      _type : torch.DoubleTensor\n",
       "      output : DoubleTensor - empty\n",
       "      gradInput : table: 0x0dcb9878\n",
       "      size : LongStorage - size: 1\n",
       "      train : false\n",
       "      dimension : 1\n",
       "    }\n",
       "  10 : \n",
       "    nn.Sequential {\n",
       "      [input -> (1) -> (2) -> (3) -> (4) -> output]\n",
       "      (1): nn.Linear(3 -> 2)\n",
       "      (2): nn.Abs\n",
       "      (3): nn.Linear(2 -> 1)\n",
       "      (4): nn.Sigmoid\n",
       "    }\n",
       "    {\n",
       "      _type : torch.DoubleTensor\n",
       "      output : DoubleTensor - empty\n",
       "      gradInput : DoubleTensor - empty\n",
       "      modules : \n",
       "        {\n",
       "          1 : \n",
       "            nn.Linear(3 -> 2)\n",
       "            {\n",
       "              gradBias : DoubleTensor - size: 2\n",
       "              weight : DoubleTensor - size: 2x3\n",
       "              _type : torch.DoubleTensor\n",
       "              output : DoubleTensor - empty\n",
       "              gradInput : DoubleTensor - empty\n",
       "              train : false\n",
       "              gradWeight : DoubleTensor - size: 2x3\n",
       "              bias : DoubleTensor - size: 2\n",
       "            }\n",
       "          2 : \n",
       "            nn.Abs\n",
       "            {\n",
       "              gradInput : DoubleTensor - empty\n",
       "              train : false\n",
       "              _type : torch.DoubleTensor\n",
       "              output : DoubleTensor - empty\n",
       "            }\n",
       "          3 : \n",
       "            nn.Linear(2 -> 1)\n",
       "            {\n",
       "              gradBias : DoubleTensor - size: 1\n",
       "              weight : DoubleTensor - size: 1x2\n",
       "              _type : torch.DoubleTensor\n",
       "              output : DoubleTensor - empty\n",
       "   "
      ]
     },
     "execution_count": 2,
     "metadata": {},
     "output_type": "execute_result"
    },
    {
     "data": {
      "text/plain": [
       "           gradInput : DoubleTensor - empty\n",
       "              train : false\n",
       "              gradWeight : DoubleTensor - size: 1x2\n",
       "              bias : DoubleTensor - size: 1\n",
       "            }\n",
       "          4 : \n",
       "            nn.Sigmoid\n",
       "            {\n",
       "              gradInput : DoubleTensor - empty\n",
       "              train : false\n",
       "              _type : torch.DoubleTensor\n",
       "              output : DoubleTensor - empty\n",
       "            }\n",
       "        }\n",
       "      train : false\n",
       "    }\n",
       "}\n"
      ]
     },
     "execution_count": 2,
     "metadata": {},
     "output_type": "execute_result"
    }
   ],
   "source": [
    "C_model_old.modules"
   ]
  },
  {
   "cell_type": "code",
   "execution_count": null,
   "metadata": {
    "collapsed": true
   },
   "outputs": [],
   "source": []
  }
 ],
 "metadata": {
  "kernelspec": {
   "display_name": "iTorch",
   "language": "lua",
   "name": "itorch"
  },
  "language_info": {
   "name": "lua",
   "version": "5.1"
  }
 },
 "nbformat": 4,
 "nbformat_minor": 0
}
