{
 "cells": [
  {
   "cell_type": "code",
   "execution_count": 1,
   "metadata": {
    "collapsed": false
   },
   "outputs": [],
   "source": [
    "# --------------------------------------------------------------------------\n",
    "# Generate Results for the SUN Attributes Ranked Training Dataset \n",
    "# --------------------------------------------------------------------------\n",
    "# import pylab as pltss\n",
    "# from pylab import *\n",
    "import numpy as np\n",
    "# import matplotlib.pyplot as plt\n",
    "# %matplotlib inline\n",
    "import scipy\n",
    "import scipy.io\n",
    "import os.path\n",
    "\n",
    "# -----------------------------------------------------\n",
    "# Make sure that caffe is on the python path:\n",
    "caffe_root = '../'  # this file is expected to be in {caffe_root}/examples\n",
    "import sys\n",
    "sys.path.insert(0, caffe_root + 'python')\n",
    "\n",
    "import caffe\n",
    "\n",
    "# -----------------------------------------------------\n",
    "# Set the right path to your model definition file, pretrained model weights,\n",
    "# and the image you would like to classify.\n",
    "MODEL_FILE = 'deploy_sun_ws.prototxt'\n",
    "PRETRAINED = 'caffe_sun_ws.caffemodel'\n",
    "\n",
    "import os\n",
    "\n",
    "# Change this to GPU later\n",
    "caffe.set_mode_cpu()\n",
    "\n",
    "net = caffe.Classifier(MODEL_FILE, PRETRAINED,\n",
    "                       mean = np.load('sunours_mean.npy').mean(1).mean(1),\n",
    "                       channel_swap = (2,1,0),\n",
    "                       raw_scale = 255,\n",
    "                       image_dims = (256, 256))"
   ]
  },
  {
   "cell_type": "code",
   "execution_count": 2,
   "metadata": {
    "collapsed": false
   },
   "outputs": [],
   "source": [
    "import glob\n",
    "base_path = '/Users/ashish/vision-project/data/SUN/SUN_WS/training/'\n",
    "# A = glob.glob(base_path + '*')\n",
    "# for a in A:\n",
    "#     y = lables.index(a.split('/')[-1])"
   ]
  },
  {
   "cell_type": "code",
   "execution_count": 3,
   "metadata": {
    "collapsed": false
   },
   "outputs": [
    {
     "name": "stdout",
     "output_type": "stream",
     "text": [
      "data (400, 3, 227, 227)\n",
      "conv1 (400, 96, 55, 55)\n",
      "pool1 (400, 96, 27, 27)\n",
      "norm1 (400, 96, 27, 27)\n",
      "conv2 (400, 256, 27, 27)\n",
      "pool2 (400, 256, 13, 13)\n",
      "norm2 (400, 256, 13, 13)\n",
      "conv3 (400, 384, 13, 13)\n",
      "conv4 (400, 384, 13, 13)\n",
      "conv5 (400, 256, 13, 13)\n",
      "pool5 (400, 256, 6, 6)\n",
      "fc6 (400, 4096)\n",
      "fc7 (400, 4096)\n",
      "fc8 (400, 42)\n",
      "prob (400, 42)\n"
     ]
    }
   ],
   "source": [
    "for blob in net.blobs:\n",
    "    print blob, \n",
    "    print net.blobs[blob].data.shape"
   ]
  },
  {
   "cell_type": "code",
   "execution_count": 4,
   "metadata": {
    "collapsed": true
   },
   "outputs": [],
   "source": [
    "imPaths = glob.glob(base_path + '*/*.jpg')"
   ]
  },
  {
   "cell_type": "code",
   "execution_count": 11,
   "metadata": {
    "collapsed": false
   },
   "outputs": [],
   "source": [
    "cat = [i.split('/')[-2] for i in imPaths]"
   ]
  },
  {
   "cell_type": "code",
   "execution_count": 15,
   "metadata": {
    "collapsed": false
   },
   "outputs": [],
   "source": [
    "labels = ['vegetation',\n",
    "    'shrubbery',\n",
    "    'foliage',\n",
    "    'leaves',\n",
    "    'shingles',\n",
    "    'concrete',\n",
    "    'metal',\n",
    "    'paper',\n",
    "    'wood',\n",
    "    'vinyl',\n",
    "    'rubber',\n",
    "    'cloth',\n",
    "    'sand',\n",
    "    'rock',\n",
    "    'dirt',\n",
    "    'marble',\n",
    "    'glass',\n",
    "    'waves',\n",
    "    'running_water',\n",
    "    'still_water',\n",
    "    'snow',\n",
    "    'natural_light',\n",
    "    'direct_sun',\n",
    "    'electric',\n",
    "    'aged',\n",
    "    'glossy',\n",
    "    'matte',\n",
    "    'moist',\n",
    "    'dry',\n",
    "    'dirty',\n",
    "    'rusty',\n",
    "    'warm',\n",
    "    'cold',\n",
    "    'natural',\n",
    "    'man_made',\n",
    "    'open_area',\n",
    "    'far_away_horizon',\n",
    "    'rugged_scene',\n",
    "    'symmetrical',\n",
    "    'cluttered_space',\n",
    "    'scary',\n",
    "    'soothing']"
   ]
  },
  {
   "cell_type": "code",
   "execution_count": 24,
   "metadata": {
    "collapsed": false
   },
   "outputs": [],
   "source": [
    "y = [labels.index(cat_) + 1 for cat_ in cat]\n",
    "y = np.asarray(y)\n"
   ]
  },
  {
   "cell_type": "code",
   "execution_count": 25,
   "metadata": {
    "collapsed": false
   },
   "outputs": [],
   "source": [
    "np.save('labels.npy', y)"
   ]
  },
  {
   "cell_type": "code",
   "execution_count": null,
   "metadata": {
    "collapsed": false
   },
   "outputs": [],
   "source": [
    "feat_vecs = np.zeros((1, 4096))\n",
    "batch_size = net.blobs['data'].data.shape[0]\n",
    "num_im = len(imPaths)\n",
    "\n",
    "iter_ = 0\n",
    "max_iter = len(imPaths) / batch_size\n",
    "while imPaths:\n",
    "    iter_ += 1\n",
    "    print('iteration', iter_, 'out of', max_iter)\n",
    "    ims = []\n",
    "    images = []\n",
    "    \n",
    "    for i in range(batch_size):\n",
    "        if imPaths:\n",
    "            ims.append(imPaths.pop())\n",
    "        else:\n",
    "            break\n",
    "\n",
    "    for im in ims:\n",
    "        image = caffe.io.load_image(im)\n",
    "        images.append(image)\n",
    "        \n",
    "    # predict takes any number of images, and formats them for the Caffe net automatically\n",
    "    prediction = net.predict(images)\n",
    "    feat = net.blobs['fc7'].data\n",
    "    feat_vecs = np.vstack([feat_vecs, feat])\n",
    "\n",
    "feat_vecs = feat_vecs[1:num_im+1, :]"
   ]
  },
  {
   "cell_type": "code",
   "execution_count": null,
   "metadata": {
    "collapsed": false
   },
   "outputs": [],
   "source": [
    "print(feat_vecs.shape)"
   ]
  },
  {
   "cell_type": "code",
   "execution_count": null,
   "metadata": {
    "collapsed": false
   },
   "outputs": [],
   "source": [
    "np.save('feat_vecs.npy', feat_vecs)"
   ]
  },
  {
   "cell_type": "code",
   "execution_count": null,
   "metadata": {
    "collapsed": false
   },
   "outputs": [],
   "source": []
  },
  {
   "cell_type": "code",
   "execution_count": null,
   "metadata": {
    "collapsed": true
   },
   "outputs": [],
   "source": []
  }
 ],
 "metadata": {
  "kernelspec": {
   "display_name": "Python 2",
   "language": "python",
   "name": "python2"
  },
  "language_info": {
   "codemirror_mode": {
    "name": "ipython",
    "version": 2
   },
   "file_extension": ".py",
   "mimetype": "text/x-python",
   "name": "python",
   "nbconvert_exporter": "python",
   "pygments_lexer": "ipython2",
   "version": "2.7.11"
  }
 },
 "nbformat": 4,
 "nbformat_minor": 0
}
