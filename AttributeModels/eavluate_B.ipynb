{
 "cells": [
  {
   "cell_type": "code",
   "execution_count": 1,
   "metadata": {
    "collapsed": true
   },
   "outputs": [],
   "source": [
    "import numpy as np"
   ]
  },
  {
   "cell_type": "code",
   "execution_count": 3,
   "metadata": {
    "collapsed": false
   },
   "outputs": [],
   "source": [
    "def getTopK(a, k):\n",
    "    return sorted(range(len(a)), key = lambda i: a[i])[-k:]\n",
    "# A = [1, 2, 5, 3, 4, 2, 1, 3, 4]\n",
    "# indices = getTopK(A, 3)\n",
    "# print(indices)"
   ]
  },
  {
   "cell_type": "code",
   "execution_count": 5,
   "metadata": {
    "collapsed": false
   },
   "outputs": [],
   "source": [
    "def getNonZero(a):\n",
    "    return [i for i in range(len(a)) if a[i]>0]\n",
    "# A = [1, 0, 5, -3, 4, -2, -1, 0, 4]\n",
    "# indices = getNonZero(A)\n",
    "# print(indices)"
   ]
  },
  {
   "cell_type": "code",
   "execution_count": 6,
   "metadata": {
    "collapsed": false
   },
   "outputs": [],
   "source": [
    "def getIntersection(P, T):\n",
    "    return list(set(P) & set(T))\n",
    "# T = [6, 2, 5, 1]\n",
    "# P = [1, 5, 7, 8]\n",
    "# intersection = getIntersection(T, P)\n",
    "# print(intersection)"
   ]
  },
  {
   "cell_type": "code",
   "execution_count": 10,
   "metadata": {
    "collapsed": true
   },
   "outputs": [],
   "source": [
    "def getPrecision(prob, target):\n",
    "    precision = 0\n",
    "    num_im = target.shape[0]\n",
    "    print('Total number of test images =', num_im)\n",
    "\n",
    "    for i in range(num_im):\n",
    "        trgt = target[i, :]\n",
    "        T = getNonZero(trgt)\n",
    "        k = len(T)\n",
    "        prb = prob[i, :]\n",
    "        P = getTopK(prb, k)\n",
    "        intersection = getIntersection(T, P)\n",
    "        prec = len(intersection) * 1.0 / k\n",
    "        precision = precision + prec\n",
    "\n",
    "    precision = precision * 1.0 / num_im\n",
    "    return precision"
   ]
  },
  {
   "cell_type": "code",
   "execution_count": 11,
   "metadata": {
    "collapsed": false
   },
   "outputs": [
    {
     "name": "stdout",
     "output_type": "stream",
     "text": [
      "(5618, 42)\n",
      "(5618, 42)\n"
     ]
    }
   ],
   "source": [
    "target = np.load('./npy/probs_test_gt.npy')\n",
    "prob = np.load('./npy/probs_test.npy')\n",
    "\n",
    "print(target.shape)\n",
    "print(prob.shape)"
   ]
  },
  {
   "cell_type": "code",
   "execution_count": 12,
   "metadata": {
    "collapsed": false
   },
   "outputs": [
    {
     "name": "stdout",
     "output_type": "stream",
     "text": [
      "('Total number of test images =', 5618)\n",
      "('Average precision = ', 0.28004351440816205)\n"
     ]
    }
   ],
   "source": [
    "precision = getPrecision(prob, target)\n",
    "print('Average precision = ', precision)"
   ]
  },
  {
   "cell_type": "code",
   "execution_count": null,
   "metadata": {
    "collapsed": true
   },
   "outputs": [],
   "source": []
  }
 ],
 "metadata": {
  "kernelspec": {
   "display_name": "Python 2",
   "language": "python",
   "name": "python2"
  },
  "language_info": {
   "codemirror_mode": {
    "name": "ipython",
    "version": 2
   },
   "file_extension": ".py",
   "mimetype": "text/x-python",
   "name": "python",
   "nbconvert_exporter": "python",
   "pygments_lexer": "ipython2",
   "version": "2.7.11"
  }
 },
 "nbformat": 4,
 "nbformat_minor": 0
}
