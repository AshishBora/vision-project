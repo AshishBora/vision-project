{
 "cells": [
  {
   "cell_type": "code",
   "execution_count": 1,
   "metadata": {
    "collapsed": false
   },
   "outputs": [
    {
     "data": {
      "text/plain": [
       "0.080931389073682\t0.13695449996564\t\n",
       "1\t\n"
      ]
     },
     "execution_count": 1,
     "metadata": {},
     "output_type": "execute_result"
    },
    {
     "data": {
      "text/plain": [
       "pred = \t0.080931389073682\t0.13695449996564\t\n",
       "err = \t0.15602311089196\t\n"
      ]
     },
     "execution_count": 1,
     "metadata": {},
     "output_type": "execute_result"
    },
    {
     "data": {
      "text/plain": [
       "pred = \t0.79077365740046\t-0.62817142613524\t\n",
       "err = \t0\t\n"
      ]
     },
     "execution_count": 1,
     "metadata": {},
     "output_type": "execute_result"
    },
    {
     "data": {
      "text/plain": [
       "pred = \t0.79077365740046\t-0.62817142613524\t\n",
       "err = \t0\t\n"
      ]
     },
     "execution_count": 1,
     "metadata": {},
     "output_type": "execute_result"
    },
    {
     "data": {
      "text/plain": [
       "pred = \t0.79077365740046\t-0.62817142613524\t\n",
       "err = \t0\t\n"
      ]
     },
     "execution_count": 1,
     "metadata": {},
     "output_type": "execute_result"
    },
    {
     "data": {
      "text/plain": [
       "pred = \t0.79077365740046\t-0.62817142613524\t\n",
       "err = \t0\t\n"
      ]
     },
     "execution_count": 1,
     "metadata": {},
     "output_type": "execute_result"
    }
   ],
   "source": [
    "-- require 'loadcaffe';\n",
    "-- require 'image';\n",
    "-- require 'cunn';\n",
    "-- require 'cudnn';\n",
    "require 'nngraph';\n",
    "\n",
    "function createFullModel(B_model, C_model)\n",
    "\tlocal image_feat1 = nn.Identity()();\n",
    "\tlocal image_feat2 = nn.Identity()();\n",
    "\tlocal image_feat3 = nn.Identity()();\n",
    "\tlocal question = nn.Identity()();\n",
    "\n",
    "\tlocal confidence = B_model({question, image_feat3});\n",
    "\tlocal scores = C_model({image_feat1, image_feat2, question, confidence});\n",
    "\t\n",
    "\tnngraph.annotateNodes();\n",
    "\treturn nn.gModule({image_feat1, image_feat2, image_feat3, question}, {scores});\n",
    "end\n",
    "\n",
    "B_model = torch.load('B_model_nn.t7')\n",
    "C_model = torch.load('C_model.t7')\n",
    "BC_model = createFullModel(B_model, C_model)\n",
    "-- ABC_model = createFullModel(A_model, B_model, C_model, encoders);\n",
    "\n",
    "-- convert to double since all inputs are doubles too\n",
    "BC_model:double()\n",
    "\n",
    "-- put the model in evalaute mode except for C\n",
    "BC_model:evaluate()\n",
    "C_model:training()\n",
    "\n",
    "\n",
    "-- Use a typical generic gradient update function\n",
    "function trainStep(model, input, target, criterion, learningRate)\n",
    "\tlocal pred = model:forward(input)\n",
    "\tlocal err = criterion:forward(pred, target)\n",
    "\tlocal gradCriterion = criterion:backward(pred, target)\n",
    "\n",
    "\tmodel:zeroGradParameters()\n",
    "\tmodel:backward(input, {gradCriterion[1], gradCriterion[2]})\n",
    "\t\n",
    "\t-- update parameters only for C\n",
    "\tC_model:updateParameters(learningRate)\n",
    "\n",
    "\tprint('pred = ', pred[1][1], pred[2][1])\n",
    "\tprint('err = ', err)\n",
    "end\n",
    "\n",
    "-- read preprocessed feature vectors\n",
    "feat_vecs = torch.load('feat_vecs.t7')\n",
    "\n",
    "-- generate random label\n",
    "label = torch.bernoulli() + 1\n",
    "target = 2*label-3\n",
    "\n",
    "-- generate dummy data\n",
    "image_feat = {}\n",
    "image_feat[1] = feat_vecs[1]\n",
    "image_feat[2] = feat_vecs[2]\n",
    "image_feat[3] = image_feat[label]:clone()\n",
    "\n",
    "-- generate a dummy question\n",
    "ques = torch.Tensor(42):fill(0)\n",
    "ques[3] = 1\n",
    "\n",
    "-- dummy forward propagation through the model\n",
    "output = BC_model:forward({image_feat[1], image_feat[2], image_feat[3], ques})\n",
    "print(output[1][1], output[2][1])\n",
    "\n",
    "-- dummy training\n",
    "crit = nn.MarginRankingCriterion(0.1)\n",
    "lr = 0.01\n",
    "print(target)\n",
    "for i = 1, 5 do\n",
    "\ttrainStep(BC_model, {image_feat[1], image_feat[2], image_feat[3], ques}, target, crit, lr)\n",
    "end"
   ]
  },
  {
   "cell_type": "code",
   "execution_count": 32,
   "metadata": {
    "collapsed": false
   },
   "outputs": [],
   "source": [
    "A = torch.Tensor{1,3,2,3,4}"
   ]
  },
  {
   "cell_type": "code",
   "execution_count": 33,
   "metadata": {
    "collapsed": false
   },
   "outputs": [
    {
     "data": {
      "text/plain": [
       " 3\n",
       " 1\n",
       " 2\n",
       " 4\n",
       "[torch.DoubleTensor of size 4]\n",
       "\n"
      ]
     },
     "execution_count": 33,
     "metadata": {},
     "output_type": "execute_result"
    }
   ],
   "source": [
    "y = torch.randperm(4)\n",
    "print(y)"
   ]
  },
  {
   "cell_type": "code",
   "execution_count": 41,
   "metadata": {
    "collapsed": false
   },
   "outputs": [
    {
     "data": {
      "text/plain": [
       " 3\n",
       " 1\n",
       "[torch.DoubleTensor of size 2]\n",
       "\n",
       " 1\n",
       " 3\n",
       "[torch.DoubleTensor of size 2]\n",
       "\n"
      ]
     },
     "execution_count": 41,
     "metadata": {},
     "output_type": "execute_result"
    }
   ],
   "source": [
    "t = y[{{1,2}}]\n",
    "print(t)\n",
    "print(A[{{1,2}}])"
   ]
  },
  {
   "cell_type": "code",
   "execution_count": null,
   "metadata": {
    "collapsed": true
   },
   "outputs": [],
   "source": []
  }
 ],
 "metadata": {
  "kernelspec": {
   "display_name": "iTorch",
   "language": "lua",
   "name": "itorch"
  },
  "language_info": {
   "name": "lua",
   "version": "5.1"
  }
 },
 "nbformat": 4,
 "nbformat_minor": 0
}
