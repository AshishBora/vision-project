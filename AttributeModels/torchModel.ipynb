{
 "cells": [
  {
   "cell_type": "code",
   "execution_count": 1,
   "metadata": {
    "collapsed": false
   },
   "outputs": [],
   "source": [
    "require 'nn';"
   ]
  },
  {
   "cell_type": "code",
   "execution_count": 2,
   "metadata": {
    "collapsed": true
   },
   "outputs": [],
   "source": [
    "-- function clone(t) -- deep-copy a table\n",
    "--     if type(t) ~= \"table\" then return t end\n",
    "--     local meta = getmetatable(t)\n",
    "--     local target = {}\n",
    "--     for k, v in pairs(t) do\n",
    "--         if type(v) == \"table\" then\n",
    "--             target[k] = clone(v)\n",
    "--         else\n",
    "--             target[k] = v\n",
    "--         end\n",
    "--     end\n",
    "--     setmetatable(target, meta)\n",
    "--     return target\n",
    "-- end"
   ]
  },
  {
   "cell_type": "code",
   "execution_count": 3,
   "metadata": {
    "collapsed": false
   },
   "outputs": [
    {
     "data": {
      "text/plain": [
       "AttributeNet\n",
       "nn.Sequential {\n",
       "  [input -> (1) -> (2) -> (3) -> (4) -> (5) -> (6) -> (7) -> (8) -> (9) -> (10) -> (11) -> (12) -> (13) -> (14) -> (15) -> (16) -> (17) -> (18) -> (19) -> (20) -> (21) -> output]\n",
       "  (1): nn.SpatialConvolution(3 -> 96, 11x11, 4,4)\n",
       "  (2): nn.ReLU\n",
       "  (3): nn.SpatialMaxPooling(3x3, 2,2)\n",
       "  (4): nn.SpatialCrossMapLRN\n",
       "  (5): nn.SpatialConvolution(96 -> 256, 5x5, 1,1, 2,2)\n",
       "  (6): nn.ReLU\n",
       "  (7): nn.SpatialMaxPooling(3x3, 2,2)\n",
       "  (8): nn.SpatialCrossMapLRN\n",
       "  (9): nn.SpatialConvolution(256 -> 384, 3x3, 1,1, 1,1)\n",
       "  (10): nn.ReLU\n",
       "  (11): nn.SpatialConvolution(384 -> 384, 3x3, 1,1, 1,1)\n",
       "  (12): nn.ReLU\n",
       "  (13): nn.SpatialConvolution(384 -> 256, 3x3, 1,1, 1,1)\n",
       "  (14): nn.ReLU\n",
       "  (15): nn.SpatialMaxPooling(3x3, 2,2)\n",
       "  (16): nn.View(9216)\n",
       "  (17): nn.Linear(9216 -> 4096)\n",
       "  (18): nn.ReLU\n",
       "  (19): nn.Dropout(0.500000)\n",
       "  (20): nn.Linear(4096 -> 42)\n",
       "  (21): nn.LogSoftMax\n",
       "}\t\n"
      ]
     },
     "execution_count": 3,
     "metadata": {},
     "output_type": "execute_result"
    }
   ],
   "source": [
    "net = nn.Sequential()\n",
    "\n",
    "-- 3 input image channel\n",
    "-- 96 output channels\n",
    "-- 11x11 convolution kernel\n",
    "-- stride = 4 in both dimensions\n",
    "net:add(nn.SpatialConvolution(3, 96, 11, 11, 4, 4))\n",
    "\n",
    "-- non-linearity \n",
    "net:add(nn.ReLU())\n",
    "\n",
    "-- Max-pool with 3x3 window with stride 2\n",
    "net:add(nn.SpatialMaxPooling(3,3,2,2))     \n",
    "\n",
    "-- LRN with size = 5\n",
    "-- alpha = 0.0001 and beta = 0.75 are default values\n",
    "net:add(nn.SpatialCrossMapLRN(5))\n",
    "\n",
    "\n",
    "--[[\n",
    "96 input channels\n",
    "256 output channels\n",
    "5x5 convolution kernel\n",
    "stride = 1 in both dimensions\n",
    "padding = 2 in both dimensions\n",
    "groups = 2\n",
    "groups thing taken from https://github.com/soumith/cudnn.torch/blob/master/SpatialConvolution.lua\n",
    "Not sure if it will work\n",
    "]]\n",
    "net:add(nn.SpatialConvolution(96, 256, 5, 5, 1, 1, 2, 2, 2))\n",
    "\n",
    "-- non-linearity \n",
    "net:add(nn.ReLU())\n",
    "\n",
    "-- Max-pool with 3x3 window with stride 2\n",
    "net:add(nn.SpatialMaxPooling(3,3,2,2)) \n",
    "\n",
    "-- LRN with size = 5\n",
    "-- alpha = 0.0001 and beta = 0.75 are default values\n",
    "net:add(nn.SpatialCrossMapLRN(5))\n",
    "\n",
    "--[[\n",
    "256 input channels\n",
    "384 output channels\n",
    "3x3 convolution kernel\n",
    "stride = 1 in both dimensions\n",
    "padding = 1 in both dimensions\n",
    "]]\n",
    "net:add(nn.SpatialConvolution(256, 384, 3, 3, 1, 1, 1, 1))\n",
    "\n",
    "-- non-linearity \n",
    "net:add(nn.ReLU())\n",
    "\n",
    "--[[\n",
    "384 input channels\n",
    "384 output channels\n",
    "3x3 convolution kernel\n",
    "stride = 1 in both dimensions\n",
    "padding = 1 in both dimensions\n",
    "groups = 2\n",
    "groups thing taken from https://github.com/soumith/cudnn.torch/blob/master/SpatialConvolution.lua\n",
    "Not sure if it will work\n",
    "]]\n",
    "net:add(nn.SpatialConvolution(384, 384, 3, 3, 1, 1, 1, 1, 2))\n",
    "\n",
    "-- non-linearity \n",
    "net:add(nn.ReLU())\n",
    "\n",
    "--[[\n",
    "384 input channels\n",
    "256 output channels\n",
    "3x3 convolution kernel\n",
    "stride = 1 in both dimensions\n",
    "padding = 1 in both dimensions\n",
    "groups = 2\n",
    "groups thing taken from https://github.com/soumith/cudnn.torch/blob/master/SpatialConvolution.lua\n",
    "Not sure if it will work\n",
    "]]\n",
    "net:add(nn.SpatialConvolution(384, 256, 3, 3, 1, 1, 1, 1, 2))\n",
    "\n",
    "-- non-linearity \n",
    "net:add(nn.ReLU())\n",
    "\n",
    "-- Max-pool with 3x3 window with stride 2\n",
    "net:add(nn.SpatialMaxPooling(3,3,2,2))\n",
    "\n",
    "-- reshapes from a 3D tensor of 16x5x5 into 1D tensor of 16*5*5\n",
    "net:add(nn.View(256*6*6))    \n",
    "\n",
    "-- Fully Connected\n",
    "net:add(nn.Linear(9216, 4096))   \n",
    "\n",
    "-- non-linearity \n",
    "net:add(nn.ReLU())\n",
    "\n",
    "-- dropout\n",
    "net:add(nn.Dropout(0.5))\n",
    "\n",
    "-- Fully Connected\n",
    "net:add(nn.Linear(4096, 42))\n",
    "\n",
    "-- converts the output to a log-probability. Useful for classification problems\n",
    "net:add(nn.LogSoftMax())   \n",
    "\n",
    "print('AttributeNet\\n' .. net:__tostring());"
   ]
  },
  {
   "cell_type": "code",
   "execution_count": 4,
   "metadata": {
    "collapsed": true
   },
   "outputs": [],
   "source": [
    "-- Check that doing net:evaluate() removes randomness due to dropout\n",
    "input = torch.rand(3,227,227);"
   ]
  },
  {
   "cell_type": "code",
   "execution_count": null,
   "metadata": {
    "collapsed": false
   },
   "outputs": [],
   "source": [
    "-- Run this twice to get differnet outputs\n",
    "output = net:forward(input);\n",
    "gnuplot.plot(output)"
   ]
  },
  {
   "cell_type": "code",
   "execution_count": null,
   "metadata": {
    "collapsed": false
   },
   "outputs": [],
   "source": [
    "-- Run this twice to get SAME outputs\n",
    "net:evaluate()\n",
    "output = net:forward(input);\n",
    "gnuplot.plot(output)"
   ]
  },
  {
   "cell_type": "code",
   "execution_count": 28,
   "metadata": {
    "collapsed": false
   },
   "outputs": [],
   "source": [
    "conv = nn.Sequential()\n",
    "for i=1,17 do\n",
    "    conv:add(net.modules[i]:clone())\n",
    "end"
   ]
  },
  {
   "cell_type": "code",
   "execution_count": 29,
   "metadata": {
    "collapsed": false
   },
   "outputs": [
    {
     "data": {
      "text/plain": [
       "nn.Sequential {\n",
       "  [input -> (1) -> (2) -> (3) -> (4) -> (5) -> (6) -> (7) -> (8) -> (9) -> (10) -> (11) -> (12) -> (13) -> (14) -> (15) -> (16) -> (17) -> output]\n",
       "  (1): nn.SpatialConvolution(3 -> 96, 11x11, 4,4)\n",
       "  (2): nn.ReLU\n",
       "  (3): nn.SpatialMaxPooling(3x3, 2,2)\n",
       "  (4): nn.SpatialCrossMapLRN\n",
       "  (5): nn.SpatialConvolution(96 -> 256, 5x5, 1,1, 2,2)\n",
       "  (6): nn.ReLU\n",
       "  (7): nn.SpatialMaxPooling(3x3, 2,2)\n",
       "  (8): nn.SpatialCrossMapLRN\n",
       "  (9): nn.SpatialConvolution(256 -> 384, 3x3, 1,1, 1,1)\n",
       "  (10): nn.ReLU\n",
       "  (11): nn.SpatialConvolution(384 -> 384, 3x3, 1,1, 1,1)\n",
       "  (12): nn.ReLU\n",
       "  (13): nn.SpatialConvolution(384 -> 256, 3x3, 1,1, 1,1)\n",
       "  (14): nn.ReLU\n",
       "  (15): nn.SpatialMaxPooling(3x3, 2,2)\n",
       "  (16): nn.View(9216)\n",
       "  (17): nn.Linear(9216 -> 4096)\n",
       "}\t\n"
      ]
     },
     "execution_count": 29,
     "metadata": {},
     "output_type": "execute_result"
    }
   ],
   "source": [
    "conv:__tostring()"
   ]
  },
  {
   "cell_type": "code",
   "execution_count": 67,
   "metadata": {
    "collapsed": false
   },
   "outputs": [
    {
     "data": {
      "text/plain": [
       "18\t\n",
       "19\t\n"
      ]
     },
     "execution_count": 67,
     "metadata": {},
     "output_type": "execute_result"
    }
   ],
   "source": [
    "conv = nn.Sequential()\n",
    "for i=18,19 do\n",
    "    print(i)\n",
    "end"
   ]
  },
  {
   "cell_type": "code",
   "execution_count": 63,
   "metadata": {
    "collapsed": false
   },
   "outputs": [
    {
     "data": {
      "text/plain": [
       " 4096\n",
       "[torch.LongStorage of size 1]\n",
       "\n"
      ]
     },
     "execution_count": 63,
     "metadata": {},
     "output_type": "execute_result"
    },
    {
     "data": {
      "text/plain": [
       " 4096\n",
       "[torch.LongStorage of size 1]\n",
       "\n"
      ]
     },
     "execution_count": 63,
     "metadata": {},
     "output_type": "execute_result"
    }
   ],
   "source": [
    "-- Verify that we get different outputs for different inputs so that there is no referenceing problems\n",
    "input = torch.rand(3, 227, 227)\n",
    "output1 = (conv:forward(input)):clone()\n",
    "print(output:size())\n",
    "\n",
    "input = torch.rand(3, 227, 227)\n",
    "prob = net:forward(input)\n",
    "output2 = (net.modules[17].output):clone()\n",
    "print(output2:size())"
   ]
  },
  {
   "cell_type": "code",
   "execution_count": 66,
   "metadata": {
    "collapsed": false
   },
   "outputs": [
    {
     "data": {
      "text/plain": [
       "0\t\n"
      ]
     },
     "execution_count": 66,
     "metadata": {},
     "output_type": "execute_result"
    }
   ],
   "source": [
    "-- Verify that we get same outputs for same inputs\n",
    "input = torch.rand(3, 227, 227)\n",
    "\n",
    "output1 = (conv:forward(input)):clone()\n",
    "prob = net:forward(input)\n",
    "output2 = (net.modules[17].output):clone()\n",
    "\n",
    "print(torch.max(torch.abs(output1 - output2)))"
   ]
  }
 ],
 "metadata": {
  "kernelspec": {
   "display_name": "iTorch",
   "language": "lua",
   "name": "itorch"
  },
  "language_info": {
   "name": "lua",
   "version": "5.1"
  }
 },
 "nbformat": 4,
 "nbformat_minor": 0
}
