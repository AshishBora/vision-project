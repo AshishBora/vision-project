{
 "cells": [
  {
   "cell_type": "code",
   "execution_count": 1,
   "metadata": {
    "collapsed": true
   },
   "outputs": [],
   "source": [
    "import numpy as np\n",
    "\n",
    "label_names = ['vegetation',\n",
    "    'shrubbery',\n",
    "    'foliage',\n",
    "    'leaves',\n",
    "    'shingles',\n",
    "    'concrete',\n",
    "    'metal',\n",
    "    'paper',\n",
    "    'wood',\n",
    "    'vinyl',\n",
    "    'rubber',\n",
    "    'cloth',\n",
    "    'sand',\n",
    "    'rock',\n",
    "    'dirt',\n",
    "    'marble',\n",
    "    'glass',\n",
    "    'waves',\n",
    "    'running_water',\n",
    "    'still_water',\n",
    "    'snow',\n",
    "    'natural_light',\n",
    "    'direct_sun',\n",
    "    'electric',\n",
    "    'aged',\n",
    "    'glossy',\n",
    "    'matte',\n",
    "    'moist',\n",
    "    'dry',\n",
    "    'dirty',\n",
    "    'rusty',\n",
    "    'warm',\n",
    "    'cold',\n",
    "    'natural',\n",
    "    'man_made',\n",
    "    'open_area',\n",
    "    'far_away_horizon',\n",
    "    'rugged_scene',\n",
    "    'symmetrical',\n",
    "    'cluttered_space',\n",
    "    'scary',\n",
    "    'soothing']"
   ]
  },
  {
   "cell_type": "code",
   "execution_count": 2,
   "metadata": {
    "collapsed": true
   },
   "outputs": [],
   "source": [
    "imPaths = []\n",
    "with open('imPaths.txt', 'r') as f:\n",
    "    line = f.readline()\n",
    "    while line != '':\n",
    "        imPaths.append(line)\n",
    "        line = f.readline()"
   ]
  },
  {
   "cell_type": "code",
   "execution_count": 3,
   "metadata": {
    "collapsed": false
   },
   "outputs": [],
   "source": [
    "labels = []\n",
    "for im in imPaths:\n",
    "    lab = label_names.index(im.split('/')[0]) + 1\n",
    "    labels.append(lab)\n",
    "    \n",
    "labels = np.asarray(labels)"
   ]
  },
  {
   "cell_type": "code",
   "execution_count": 4,
   "metadata": {
    "collapsed": false
   },
   "outputs": [],
   "source": [
    "np.save('labels.npy', labels)"
   ]
  }
 ],
 "metadata": {
  "kernelspec": {
   "display_name": "Python 2",
   "language": "python",
   "name": "python2"
  },
  "language_info": {
   "codemirror_mode": {
    "name": "ipython",
    "version": 2
   },
   "file_extension": ".py",
   "mimetype": "text/x-python",
   "name": "python",
   "nbconvert_exporter": "python",
   "pygments_lexer": "ipython2",
   "version": "2.7.11"
  }
 },
 "nbformat": 4,
 "nbformat_minor": 0
}
