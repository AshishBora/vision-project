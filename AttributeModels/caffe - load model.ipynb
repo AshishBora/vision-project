{
 "cells": [
  {
   "cell_type": "code",
   "execution_count": 1,
   "metadata": {
    "collapsed": true
   },
   "outputs": [],
   "source": [
    "import caffe"
   ]
  },
  {
   "cell_type": "code",
   "execution_count": 2,
   "metadata": {
    "collapsed": true
   },
   "outputs": [],
   "source": [
    "caffe.set_mode_cpu()\n",
    "\n",
    "path = '/Users/ashish/vision-project/AttributeModels/deep_carved_caffe_sun_ws/'\n",
    "protopath = path + 'deploy_sun_ws.prototxt'\n",
    "modelpath = path + 'caffe_sun_ws.caffemodel'\n",
    "\n",
    "net = caffe.Net(protopath, modelpath, caffe.TEST)"
   ]
  },
  {
   "cell_type": "code",
   "execution_count": 3,
   "metadata": {
    "collapsed": false
   },
   "outputs": [
    {
     "data": {
      "text/plain": [
       "OrderedDict([('data', <caffe._caffe.Blob at 0x117f19f50>),\n",
       "             ('conv1', <caffe._caffe.Blob at 0x117f19de8>),\n",
       "             ('pool1', <caffe._caffe.Blob at 0x117f19d70>),\n",
       "             ('norm1', <caffe._caffe.Blob at 0x117f19cf8>),\n",
       "             ('conv2', <caffe._caffe.Blob at 0x117f2b050>),\n",
       "             ('pool2', <caffe._caffe.Blob at 0x117f2b0c8>),\n",
       "             ('norm2', <caffe._caffe.Blob at 0x117f2b140>),\n",
       "             ('conv3', <caffe._caffe.Blob at 0x117f2b1b8>),\n",
       "             ('conv4', <caffe._caffe.Blob at 0x117f2b230>),\n",
       "             ('conv5', <caffe._caffe.Blob at 0x117f2b2a8>),\n",
       "             ('pool5', <caffe._caffe.Blob at 0x117f2b320>),\n",
       "             ('fc6', <caffe._caffe.Blob at 0x117f2b398>),\n",
       "             ('fc7', <caffe._caffe.Blob at 0x117f2b410>),\n",
       "             ('fc8', <caffe._caffe.Blob at 0x117f2b488>),\n",
       "             ('prob', <caffe._caffe.Blob at 0x117f2b500>)])"
      ]
     },
     "execution_count": 3,
     "metadata": {},
     "output_type": "execute_result"
    }
   ],
   "source": [
    "net.blobs"
   ]
  },
  {
   "cell_type": "code",
   "execution_count": 26,
   "metadata": {
    "collapsed": false
   },
   "outputs": [
    {
     "data": {
      "text/plain": [
       "OrderedDict([('conv1', <caffe._caffe.BlobVec at 0x12614e7c0>),\n",
       "             ('conv2', <caffe._caffe.BlobVec at 0x12614e750>),\n",
       "             ('conv3', <caffe._caffe.BlobVec at 0x12614e600>),\n",
       "             ('conv4', <caffe._caffe.BlobVec at 0x12614e830>),\n",
       "             ('conv5', <caffe._caffe.BlobVec at 0x12614e8a0>),\n",
       "             ('fc6', <caffe._caffe.BlobVec at 0x12614e910>),\n",
       "             ('fc7', <caffe._caffe.BlobVec at 0x12614e980>),\n",
       "             ('fc8', <caffe._caffe.BlobVec at 0x12614e9f0>)])"
      ]
     },
     "execution_count": 26,
     "metadata": {},
     "output_type": "execute_result"
    }
   ],
   "source": [
    "net.params"
   ]
  },
  {
   "cell_type": "code",
   "execution_count": 57,
   "metadata": {
    "collapsed": false,
    "scrolled": true
   },
   "outputs": [
    {
     "name": "stdout",
     "output_type": "stream",
     "text": [
      "conv1 <type 'numpy.ndarray'> (96, 3, 11, 11) conv1_W.npy\n",
      "conv1 <type 'numpy.ndarray'> (96,) conv1_b.npy\n",
      "conv2 <type 'numpy.ndarray'> (256, 48, 5, 5) conv2_W.npy\n",
      "conv2 <type 'numpy.ndarray'> (256,) conv2_b.npy\n",
      "conv3 <type 'numpy.ndarray'> (384, 256, 3, 3) conv3_W.npy\n",
      "conv3 <type 'numpy.ndarray'> (384,) conv3_b.npy\n",
      "conv4 <type 'numpy.ndarray'> (384, 192, 3, 3) conv4_W.npy\n",
      "conv4 <type 'numpy.ndarray'> (384,) conv4_b.npy\n",
      "conv5 <type 'numpy.ndarray'> (256, 192, 3, 3) conv5_W.npy\n",
      "conv5 <type 'numpy.ndarray'> (256,) conv5_b.npy\n",
      "fc6 <type 'numpy.ndarray'> (4096, 9216) fc6_W.npy\n",
      "fc6 <type 'numpy.ndarray'> (4096,) fc6_b.npy\n",
      "fc7 <type 'numpy.ndarray'> (4096, 4096) fc7_W.npy\n",
      "fc7 <type 'numpy.ndarray'> (4096,) fc7_b.npy\n",
      "fc8 <type 'numpy.ndarray'> (42, 4096) fc8_W.npy\n",
      "fc8 <type 'numpy.ndarray'> (42,) fc8_b.npy\n"
     ]
    }
   ],
   "source": [
    "import numpy as np\n",
    "\n",
    "for key in net.params:\n",
    "    W = net.params[key][0].data\n",
    "    filename = key + '_W.npy'\n",
    "    print key, type(W), W.shape, filename\n",
    "    np.save('./npy/' + filename, W)\n",
    "    \n",
    "    b = net.params[key][1].data\n",
    "    filename = key + '_b.npy'\n",
    "    print key, type(b), b.shape, filename\n",
    "    np.save('./npy/' + filename, b)"
   ]
  },
  {
   "cell_type": "code",
   "execution_count": null,
   "metadata": {
    "collapsed": true
   },
   "outputs": [],
   "source": []
  }
 ],
 "metadata": {
  "kernelspec": {
   "display_name": "Python 2",
   "language": "python",
   "name": "python2"
  },
  "language_info": {
   "codemirror_mode": {
    "name": "ipython",
    "version": 2
   },
   "file_extension": ".py",
   "mimetype": "text/x-python",
   "name": "python",
   "nbconvert_exporter": "python",
   "pygments_lexer": "ipython2",
   "version": "2.7.11"
  }
 },
 "nbformat": 4,
 "nbformat_minor": 0
}
