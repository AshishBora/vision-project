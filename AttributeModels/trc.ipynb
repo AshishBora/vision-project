{
 "cells": [
  {
   "cell_type": "code",
   "execution_count": 1,
   "metadata": {
    "collapsed": true
   },
   "outputs": [],
   "source": [
    "require 'nngraph';\n",
    "require 'torch';\n",
    "\n",
    "function createFullModel(B_model, C_model)\n",
    "    local input = nn.Identity()();\n",
    "\n",
    "    local image_feat1 = nn.Narrow(2, 1, 4096)(input);\n",
    "    local image_feat2 = nn.Narrow(2, 4097, 4096)(input);\n",
    "    local image_feat3 = nn.Narrow(2, 8193, 4096)(input);\n",
    "    local question = nn.Narrow(2, 12289, 42)(input);\n",
    "    \n",
    "    local confidence = B_model({question, image_feat3});\n",
    "    local scores = C_model({image_feat1, image_feat2, question, confidence});\n",
    "    \n",
    "    nngraph.annotateNodes();\n",
    "    return nn.gModule({input}, {scores});\n",
    "end\n",
    "\n",
    "\n",
    "-- function to get an example for training C\n",
    "function getCtrainExample(set, labels)\n",
    "\n",
    "    -- randomly select two images from different classes\n",
    "    torch.manualSeed(3489208)\n",
    "    local y = torch.randperm((#set)[1])\n",
    "\n",
    "    local im_feat = {}\n",
    "    im_feat[1] = set[y[1]]\n",
    "    im_feat[2] = set[y[2]]\n",
    "\n",
    "    -- randomly select one of those to be given to model B\n",
    "    local label = torch.bernoulli() + 1\n",
    "    im_feat[3] = im_feat[label]:clone()\n",
    "\n",
    "    -- randomly select one of the images to ask about its class\n",
    "    local ques = torch.Tensor(42):fill(0)\n",
    "    ques[labels[y[torch.bernoulli() + 1]]] = 1\n",
    "\n",
    "    -- target is probability of label = 2\n",
    "    local target = label - 1\n",
    "\n",
    "    -- Testing\n",
    "    -- outfile:write(im1_Path)\n",
    "    -- outfile:write(im2_Path)\n",
    "    -- outfile:write(y[1], y[2])\n",
    "    -- outfile:write(label)\n",
    "    -- outfile:write(ques[y[1]], ques[y[2]])\n",
    "    \n",
    "    local input = torch.cat({im_feat[1], im_feat[2], im_feat[3], ques})\n",
    "--     print(#input)\n",
    "    \n",
    "    return {input, target}\n",
    "end\n",
    "\n",
    "function do_weight_decay(model, wd)\n",
    "    lin_modules = model:findModules('nn.Linear');\n",
    "    local i = 0;\n",
    "    for i = 1,#lin_modules do\n",
    "        m = torch.mul(lin_modules[i].weight, wd);\n",
    "        lin_modules[i].gradWeight = lin_modules[i].gradWeight + m;\n",
    "    end\n",
    "end\n",
    "\n",
    "function get_pred_err(prob, target)\n",
    "\n",
    "    local pred = 2\n",
    "    if(prob[1] < 0.5) then\n",
    "        pred = 1\n",
    "    end\n",
    "\n",
    "    local pred_err = 0\n",
    "    if pred ~= target+1 then\n",
    "        pred_err = 1\n",
    "    end\n",
    "\n",
    "    return pred_err\n",
    "end\n",
    "\n",
    "function get_total_pred_err(probs, targets)\n",
    "    local total_pred_err = 0;\n",
    "    local i = 0;\n",
    "    for i = 1, (#probs)[1] do\n",
    "        total_pred_err = total_pred_err + get_pred_err(probs[i], targets[i]);\n",
    "    end\n",
    "    return total_pred_err/(#probs)[1];\n",
    "end\n",
    "\n",
    "-- Use a typical generic gradient update function\n",
    "function accumulate(model, inputs, targets, criterion, eval_criterion,  wd)\n",
    "    local probs = model:forward(inputs)\n",
    "    local loss = criterion:forward(probs, targets)\n",
    "    local gradCriterion = criterion:backward(probs, targets)\n",
    "    model:backward(inputs, gradCriterion, 1/(#inputs)[1])\n",
    "    do_weight_decay(model, wd)\n",
    "    local pred_err = get_total_pred_err(probs, targets)\n",
    "    -- print('prob = ', prob)\n",
    "    return loss, pred_err\n",
    "end\n",
    "\n",
    "\n",
    "-- function to evalaute the model\n",
    "function evalPerf(model, criterion, set, labels, iter)\n",
    "\n",
    "    outfile = io.open(\"train_C.out\", \"a\")\n",
    "    outfile:write('Testing... ')\n",
    "\n",
    "\n",
    "    -- FOR DEBUGGING only\n",
    "    -- set the random seed so that same batch is chosen always. Make sure error goes down\n",
    "    -- torch.manualSeed(3489208)\n",
    "    inputs, targets = nextBatch(set, labels, iter);\n",
    "--     model:forward(inputs[1])\n",
    "--     print 'ttttt1\\n'\n",
    "--     model:forward(inputs[2])\n",
    "--     print 'ttttt2\\n'\n",
    "--     model:forward(inputs[3])\n",
    "--     print 'ttttt3\\n'\n",
    "   \n",
    "    -- outfile:write('Fetched Batch');\n",
    "\n",
    "--     local m1 = nn.Narrow(1, 1, 4096);\n",
    "--     local m2 = nn.Narrow(1, 4097, 4096);\n",
    "--     local m3 = nn.Narrow(1, 8193, 4096);\n",
    "--     local m4 = nn.Narrow(1, 12289, 42);\n",
    "--     m1:forward(inputs[1]);\n",
    "--     m2:forward(inputs[1]);\n",
    "--     m3:forward(inputs[1]);\n",
    "--     m4:forward(inputs[1]);\n",
    "--    model:forward(torch.Tensor(12330, 10));\n",
    "    -- print('done')\n",
    "    \n",
    "     local probs = model:forward(inputs)\n",
    "     local test_loss = criterion:forward(probs, targets)\n",
    "     local test_pred_err = get_total_pred_err(probs, targets)\n",
    "\n",
    "     outfile:write('average test_loss = ', test_loss, ', ')\n",
    "    outfile:write('average test_pred_err = ', test_pred_err, '\\n')\n",
    "    outfile:close()\n",
    "end\n",
    "\n",
    "\n",
    "function nextBatch(trainset, train_labels, batchSize)\n",
    "    local inputs = torch.Tensor(batchSize, 12330);\n",
    "    local targets = torch.Tensor(batchSize);\n",
    "    local i = 0;\n",
    "    for i = 1, batchSize do\n",
    "        example = getCtrainExample(trainset, train_labels);\n",
    "        inputs[i] = example[1];\n",
    "        targets[i] = example[2];\n",
    "    end\n",
    "    inputs:double();\n",
    "    targets:double();\n",
    "    return inputs, targets\n",
    "end"
   ]
  },
  {
   "cell_type": "code",
   "execution_count": 2,
   "metadata": {
    "collapsed": true
   },
   "outputs": [],
   "source": [
    "-- Laod the original model and creat BC model\n",
    "B_model = torch.load('B_model_nn.t7')\n",
    "C_model = torch.load('C_model.t7')\n",
    "\n",
    "C_model_old = torch.load('C_model__1500.t7')\n",
    "C_model.modules[13].modules[1].weight = C_model_old.modules[10].modules[1].weight:clone()\n",
    "C_model.modules[13].modules[3].weight = C_model_old.modules[10].modules[3].weight:clone()\n",
    "C_model.modules[13].modules[1].bias = C_model_old.modules[10].modules[1].bias:clone()\n",
    "C_model.modules[13].modules[3].bias = C_model_old.modules[10].modules[3].bias:clone()\n",
    "\n",
    "-- C_model_old = nil\n",
    "\n",
    "BC_model = createFullModel(B_model, C_model)\n",
    "BC_model:double()\n",
    "BC_model:evaluate()"
   ]
  },
  {
   "cell_type": "code",
   "execution_count": 3,
   "metadata": {
    "collapsed": true
   },
   "outputs": [],
   "source": [
    "-- read preprocessed feature vectors and labels\n",
    "feat_vecs = torch.load('feat_vecs.t7')\n",
    "labels = torch.load('labels.t7')\n",
    "\n",
    "-- generate trainset and testset\n",
    "train_perc = 0.80 -- percentage of images in the train set\n",
    "trainset_size = torch.round((#feat_vecs)[1] * train_perc)\n",
    "trainset = feat_vecs[{{1, trainset_size}}]\n",
    "train_labels = labels[{{1, trainset_size}}]\n",
    "testset = feat_vecs[{{trainset_size+1, (#feat_vecs)[1]}}]\n",
    "test_labels = labels[{{trainset_size+1, (#feat_vecs)[1]}}]"
   ]
  },
  {
   "cell_type": "code",
   "execution_count": 18,
   "metadata": {
    "collapsed": true
   },
   "outputs": [],
   "source": [
    "crit = nn.BCECriterion()\n",
    "eval_crit = crit\n",
    "lr = 2\n",
    "attr_lr = 1\n",
    "batch_size = 512\n",
    "max_train_iter = 1\n",
    "test_interval = 50\n",
    "test_iter = 1000\n",
    "lr_stepsize = 100\n",
    "gamma = 0.7\n",
    "attr_gamma = 0.5\n",
    "wd = 0\n",
    "snapshot_interval = 100\n",
    "snapshot_prefix = './'\n",
    "snapshot = false\n",
    "-- TO DO : Add weight decay"
   ]
  },
  {
   "cell_type": "code",
   "execution_count": 19,
   "metadata": {
    "collapsed": false
   },
   "outputs": [],
   "source": [
    "inputs, targets = nextBatch(trainset, train_labels, batch_size);\n",
    "input = inputs[1]"
   ]
  },
  {
   "cell_type": "code",
   "execution_count": 20,
   "metadata": {
    "collapsed": false
   },
   "outputs": [],
   "source": [
    "image_feat1 = input:narrow(1, 1, 4096)\n",
    "image_feat2 = input:narrow(1, 4097, 4096)\n",
    "image_feat3 = input:narrow(1, 8193, 4096)\n",
    "question = input:narrow(1, 12289, 42)\n",
    "confidence = torch.Tensor{0.8}"
   ]
  },
  {
   "cell_type": "code",
   "execution_count": 21,
   "metadata": {
    "collapsed": false
   },
   "outputs": [
    {
     "data": {
      "text/plain": [
       "5.6793746948242\t\n",
       "5.6605820655823\t\n",
       "5.6793746948242\t\n",
       "1\t\n"
      ]
     },
     "execution_count": 21,
     "metadata": {},
     "output_type": "execute_result"
    }
   ],
   "source": [
    "print(torch.max(image_feat1))\n",
    "print(torch.max(image_feat2))\n",
    "print(torch.max(image_feat3))\n",
    "print(torch.max(question))"
   ]
  },
  {
   "cell_type": "code",
   "execution_count": 22,
   "metadata": {
    "collapsed": false
   },
   "outputs": [
    {
     "data": {
      "text/plain": [
       "1e-16 *\n",
       "  2.4476\n",
       "[torch.DoubleTensor of size 1x1]\n",
       "\n"
      ]
     },
     "execution_count": 22,
     "metadata": {},
     "output_type": "execute_result"
    },
    {
     "data": {
      "text/plain": [
       "1e-16 *\n",
       " 2.4476\n",
       "[torch.DoubleTensor of size 1]\n",
       "\n"
      ]
     },
     "execution_count": 22,
     "metadata": {},
     "output_type": "execute_result"
    }
   ],
   "source": [
    "print(C_model:forward({image_feat1, image_feat2, question, confidence}))\n",
    "print(C_model_old:forward({image_feat1, image_feat2, question, confidence}))"
   ]
  },
  {
   "cell_type": "code",
   "execution_count": 23,
   "metadata": {
    "collapsed": true
   },
   "outputs": [],
   "source": [
    "-- Start training\n",
    "outfile = io.open('train_C.out', 'a')\n",
    "outfile:write('Training with snapshotting ')\n",
    "if snapshot then\n",
    "    outfile:write('enabled... \\n')\n",
    "else\n",
    "    outfile:write('disabled... \\n')\n",
    "end\n",
    "outfile:close()\n",
    "\n",
    "-- local method = 'xavier';\n",
    "-- C_model.modules[2] = require('weight-init')(C_model.modules[2], method)\n",
    "-- C_model.modules[6] = require('weight-init')(C_model.modules[6], method)\n",
    "\n",
    "-- C_model.modules[2]:reset(0.01);\n",
    "-- C_model.modules[6]:reset(0.01);\n",
    "-- C_model.modules[10].modules[1].weight:mul(0.3)\n",
    "-- C_model.modules[10].modules[3].weight:mul(0.3)\n",
    "\n",
    "for i = 1, max_train_iter do\n",
    "\n",
    "    -- initial testing\n",
    "\n",
    "    if i == 1 then\n",
    "        evalPerf(BC_model, eval_crit, testset, test_labels, test_iter)\n",
    "    end\n",
    "    BC_model:zeroGradParameters()\n",
    "    -- print('i ', i, '\\n');\n",
    "    local batch_loss = 0\n",
    "\n",
    "    -- FOR DEBUGGING only\n",
    "    -- set the random seed so that same batch is chosen always. Make sure error goes down\n",
    "    -- torch.manualSeed(214325)\n",
    "\n",
    "    inputs, targets = nextBatch(trainset, train_labels, batch_size);\n",
    "    batch_loss, train_pred_err = accumulate(BC_model, inputs, targets, crit, eval_crit,  wd);\n",
    "\n",
    "    -- update parameters for only a few layers in C\n",
    "--     C_model.modules[2]:updateParameters(attr_lr)\n",
    "--     C_model.modules[6]:updateParameters(attr_lr)\n",
    "--     C_model.modules[13]:updateParameters(lr)\n",
    "    \n",
    "    BC_model:clearState();\n",
    "\n",
    "    outfile = io.open(\"train_C.out\", \"a\")\n",
    "    outfile:write('Iteration no. ', i, ', lr = ', lr, ', attr_lr = ', attr_lr, ', batch_loss = ', batch_loss, ', train_err = ', train_pred_err, '\\n')\n",
    "    outfile:close()\n",
    "\n",
    "    if i % test_interval == 0 then\n",
    "        evalPerf(BC_model, eval_crit, testset, test_labels, test_iter)        \n",
    "    end\n",
    "\n",
    "    if i % lr_stepsize == 0 then\n",
    "        lr = lr * gamma;\n",
    "        attr_lr = attr_lr * attr_gamma;\n",
    "    end\n",
    "\n",
    "    if snapshot and (i % snapshot_interval == 0) then\n",
    "\n",
    "        outfile = io.open(\"train_C.out\", \"a\")\n",
    "\n",
    "        outfile:write('Snapshotting C_model... ')\n",
    "        snapshot_filename_C = snapshot_prefix .. 'C_model__' .. tostring(i) .. '.t7'\n",
    "        C_model:clearState()\n",
    "        torch.save(snapshot_filename_C, C_model)\n",
    "        outfile:write('done\\n')\n",
    "\n",
    "        outfile:close()\n",
    "\n",
    "    end\n",
    "\n",
    "end"
   ]
  },
  {
   "cell_type": "code",
   "execution_count": 26,
   "metadata": {
    "collapsed": false
   },
   "outputs": [
    {
     "data": {
      "text/plain": [
       "0.12720342103816\t\n",
       "0.12720342103816\t\n"
      ]
     },
     "execution_count": 26,
     "metadata": {},
     "output_type": "execute_result"
    }
   ],
   "source": [
    "print(torch.norm(C_model.modules[2].modules[3].gradWeight))\n",
    "print(torch.norm(C_model.modules[7].modules[3].gradWeight))"
   ]
  },
  {
   "cell_type": "code",
   "execution_count": null,
   "metadata": {
    "collapsed": true
   },
   "outputs": [],
   "source": []
  }
 ],
 "metadata": {
  "kernelspec": {
   "display_name": "iTorch",
   "language": "lua",
   "name": "itorch"
  },
  "language_info": {
   "name": "lua",
   "version": "5.1"
  }
 },
 "nbformat": 4,
 "nbformat_minor": 0
}
