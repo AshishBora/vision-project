{
 "cells": [
  {
   "cell_type": "code",
   "execution_count": 16,
   "metadata": {
    "collapsed": false
   },
   "outputs": [],
   "source": [
    "require 'nn';"
   ]
  },
  {
   "cell_type": "code",
   "execution_count": 17,
   "metadata": {
    "collapsed": false
   },
   "outputs": [
    {
     "data": {
      "text/plain": [
       "AttributeNet\n",
       "nn.Sequential {\n",
       "  [input -> (1) -> (2) -> (3) -> (4) -> (5) -> (6) -> (7) -> (8) -> (9) -> (10) -> (11) -> (12) -> (13) -> (14) -> (15) -> (16) -> (17) -> (18) -> (19) -> (20) -> (21) -> output]\n",
       "  (1): nn.SpatialConvolution(3 -> 96, 11x11, 4,4)\n",
       "  (2): nn.ReLU\n",
       "  (3): nn.SpatialMaxPooling(3x3, 2,2)\n",
       "  (4): nn.SpatialCrossMapLRN\n",
       "  (5): nn.SpatialConvolution(96 -> 256, 5x5, 1,1, 2,2)\n",
       "  (6): nn.ReLU\n",
       "  (7): nn.SpatialMaxPooling(3x3, 2,2)\n",
       "  (8): nn.SpatialCrossMapLRN\n",
       "  (9): nn.SpatialConvolution(256 -> 384, 3x3, 1,1, 1,1)\n",
       "  (10): nn.ReLU\n",
       "  (11): nn.SpatialConvolution(384 -> 384, 3x3, 1,1, 1,1)\n",
       "  (12): nn.ReLU\n",
       "  (13): nn.SpatialConvolution(384 -> 256, 3x3, 1,1, 1,1)\n",
       "  (14): nn.ReLU\n",
       "  (15): nn.SpatialMaxPooling(3x3, 2,2)\n",
       "  (16): nn.View(9216)\n",
       "  (17): nn.Linear(9216 -> 4096)\n",
       "  (18): nn.ReLU\n",
       "  (19): nn.Dropout(0.500000)\n",
       "  (20): nn.Linear(4096 -> 42)\n",
       "  (21): nn.LogSoftMax\n",
       "}\t\n"
      ]
     },
     "execution_count": 17,
     "metadata": {},
     "output_type": "execute_result"
    }
   ],
   "source": [
    "net = nn.Sequential()\n",
    "\n",
    "-- 3 input image channel\n",
    "-- 96 output channels\n",
    "-- 11x11 convolution kernel\n",
    "-- stride = 4 in both dimensions\n",
    "net:add(nn.SpatialConvolution(3, 96, 11, 11, 4, 4))\n",
    "\n",
    "-- non-linearity \n",
    "net:add(nn.ReLU())\n",
    "\n",
    "-- Max-pool with 3x3 window with stride 2\n",
    "net:add(nn.SpatialMaxPooling(3,3,2,2))     \n",
    "\n",
    "-- LRN with size = 5\n",
    "-- alpha = 0.0001 and beta = 0.75 are default values\n",
    "net:add(nn.SpatialCrossMapLRN(5))\n",
    "\n",
    "\n",
    "--[[\n",
    "96 input channels\n",
    "256 output channels\n",
    "5x5 convolution kernel\n",
    "stride = 1 in both dimensions\n",
    "padding = 2 in both dimensions\n",
    "groups = 2\n",
    "groups thing taken from https://github.com/soumith/cudnn.torch/blob/master/SpatialConvolution.lua\n",
    "Not sure if it will work\n",
    "]]\n",
    "net:add(nn.SpatialConvolution(96, 256, 5, 5, 1, 1, 2, 2, 2))\n",
    "\n",
    "-- non-linearity \n",
    "net:add(nn.ReLU())\n",
    "\n",
    "-- Max-pool with 3x3 window with stride 2\n",
    "net:add(nn.SpatialMaxPooling(3,3,2,2)) \n",
    "\n",
    "-- LRN with size = 5\n",
    "-- alpha = 0.0001 and beta = 0.75 are default values\n",
    "net:add(nn.SpatialCrossMapLRN(5))\n",
    "\n",
    "--[[\n",
    "256 input channels\n",
    "384 output channels\n",
    "3x3 convolution kernel\n",
    "stride = 1 in both dimensions\n",
    "padding = 1 in both dimensions\n",
    "]]\n",
    "net:add(nn.SpatialConvolution(256, 384, 3, 3, 1, 1, 1, 1))\n",
    "\n",
    "-- non-linearity \n",
    "net:add(nn.ReLU())\n",
    "\n",
    "--[[\n",
    "384 input channels\n",
    "384 output channels\n",
    "3x3 convolution kernel\n",
    "stride = 1 in both dimensions\n",
    "padding = 1 in both dimensions\n",
    "groups = 2\n",
    "groups thing taken from https://github.com/soumith/cudnn.torch/blob/master/SpatialConvolution.lua\n",
    "Not sure if it will work\n",
    "]]\n",
    "net:add(nn.SpatialConvolution(384, 384, 3, 3, 1, 1, 1, 1, 2))\n",
    "\n",
    "-- non-linearity \n",
    "net:add(nn.ReLU())\n",
    "\n",
    "--[[\n",
    "384 input channels\n",
    "256 output channels\n",
    "3x3 convolution kernel\n",
    "stride = 1 in both dimensions\n",
    "padding = 1 in both dimensions\n",
    "groups = 2\n",
    "groups thing taken from https://github.com/soumith/cudnn.torch/blob/master/SpatialConvolution.lua\n",
    "Not sure if it will work\n",
    "]]\n",
    "net:add(nn.SpatialConvolution(384, 256, 3, 3, 1, 1, 1, 1, 2))\n",
    "\n",
    "-- non-linearity \n",
    "net:add(nn.ReLU())\n",
    "\n",
    "-- Max-pool with 3x3 window with stride 2\n",
    "net:add(nn.SpatialMaxPooling(3,3,2,2))\n",
    "\n",
    "-- reshapes from a 3D tensor of 16x5x5 into 1D tensor of 16*5*5\n",
    "net:add(nn.View(256*6*6))    \n",
    "\n",
    "-- Fully Connected\n",
    "net:add(nn.Linear(9216, 4096))   \n",
    "\n",
    "-- non-linearity \n",
    "net:add(nn.ReLU())\n",
    "\n",
    "-- dropout\n",
    "net:add(nn.Dropout(0.5))\n",
    "\n",
    "-- Fully Connected\n",
    "net:add(nn.Linear(4096, 42))\n",
    "\n",
    "-- converts the output to a log-probability. Useful for classification problems\n",
    "net:add(nn.LogSoftMax())   \n",
    "\n",
    "print('AttributeNet\\n' .. net:__tostring());"
   ]
  },
  {
   "cell_type": "code",
   "execution_count": 18,
   "metadata": {
    "collapsed": false
   },
   "outputs": [],
   "source": [
    "net:evaluate()\n",
    "input = torch.rand(3,227,227);\n",
    "output = net:forward(input);"
   ]
  },
  {
   "cell_type": "code",
   "execution_count": 19,
   "metadata": {
    "collapsed": false
   },
   "outputs": [
    {
     "data": {
      "text/plain": [
       "nn.Sequential {\n",
       "  [input -> (1) -> (2) -> (3) -> (4) -> (5) -> (6) -> (7) -> (8) -> (9) -> (10) -> (11) -> (12) -> (13) -> (14) -> (15) -> (16) -> (17) -> output]\n",
       "  (1): nn.SpatialConvolution(3 -> 96, 11x11, 4,4)\n",
       "  (2): nn.ReLU\n",
       "  (3): nn.SpatialMaxPooling(3x3, 2,2)\n",
       "  (4): nn.SpatialCrossMapLRN\n",
       "  (5): nn.SpatialConvolution(96 -> 256, 5x5, 1,1, 2,2)\n",
       "  (6): nn.ReLU\n",
       "  (7): nn.SpatialMaxPooling(3x3, 2,2)\n",
       "  (8): nn.SpatialCrossMapLRN\n",
       "  (9): nn.SpatialConvolution(256 -> 384, 3x3, 1,1, 1,1)\n",
       "  (10): nn.ReLU\n",
       "  (11): nn.SpatialConvolution(384 -> 384, 3x3, 1,1, 1,1)\n",
       "  (12): nn.ReLU\n",
       "  (13): nn.SpatialConvolution(384 -> 256, 3x3, 1,1, 1,1)\n",
       "  (14): nn.ReLU\n",
       "  (15): nn.SpatialMaxPooling(3x3, 2,2)\n",
       "  (16): nn.View(9216)\n",
       "  (17): nn.Linear(9216 -> 4096)\n",
       "}\t\n"
      ]
     },
     "execution_count": 19,
     "metadata": {},
     "output_type": "execute_result"
    }
   ],
   "source": [
    "conv = nn.Sequential()\n",
    "for i=1,17 do\n",
    "    conv:add(net.modules[i]:clone())\n",
    "end\n",
    "print(conv:__tostring())"
   ]
  },
  {
   "cell_type": "code",
   "execution_count": 63,
   "metadata": {
    "collapsed": false
   },
   "outputs": [
    {
     "data": {
      "text/plain": [
       "99\t\n"
      ]
     },
     "execution_count": 63,
     "metadata": {},
     "output_type": "execute_result"
    }
   ],
   "source": [
    "mlp1=nn.Sequential();\n",
    "mlp1:add(nn.Linear(100,10));\n",
    "mlp1:add(nn.Linear(10,1));\n",
    "\n",
    "-- clone and share the parameters\n",
    "mlp2 = mlp1:clone('weight','bias', 'gradWeight','gradBias')\n",
    "\n",
    "mlpMain:add(mlp2)\n",
    "\n",
    "-- we change the bias of the first\n",
    "mlp1:get(2).bias[1] = 99;\n",
    "\n",
    "-- and see that the second one's bias has also changed..\n",
    "print(mlp2:get(2).bias[1])"
   ]
  },
  {
   "cell_type": "code",
   "execution_count": 65,
   "metadata": {
    "collapsed": false
   },
   "outputs": [],
   "source": [
    "-- ?nn.DotProduct"
   ]
  }
 ],
 "metadata": {
  "kernelspec": {
   "display_name": "iTorch",
   "language": "lua",
   "name": "itorch"
  },
  "language_info": {
   "name": "lua",
   "version": "5.1"
  }
 },
 "nbformat": 4,
 "nbformat_minor": 0
}
