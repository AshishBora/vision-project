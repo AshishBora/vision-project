{
 "cells": [
  {
   "cell_type": "code",
   "execution_count": 1,
   "metadata": {
    "collapsed": true
   },
   "outputs": [],
   "source": [
    "require 'nngraph';\n",
    "\n",
    "\n",
    "function createFullModel(B_model, C_model)\n",
    "    local image_feat1 = nn.Identity()();\n",
    "    local image_feat2 = nn.Identity()();\n",
    "    local image_feat3 = nn.Identity()();\n",
    "    local question = nn.Identity()();\n",
    "\n",
    "    local confidence = B_model({question, image_feat3});\n",
    "    local scores = C_model({image_feat1, image_feat2, question, confidence});\n",
    "    \n",
    "    nngraph.annotateNodes();\n",
    "    return nn.gModule({image_feat1, image_feat2, image_feat3, question}, {scores});\n",
    "end\n",
    "\n",
    "-- function to get an example for training C\n",
    "function getCtrainExample(set, labels)\n",
    "\n",
    "    -- randomly select two images from different classes\n",
    "    local y = torch.randperm((#set)[1])\n",
    "\n",
    "    local im_feat = {}\n",
    "    im_feat[1] = set[y[1]]\n",
    "    im_feat[2] = set[y[2]]\n",
    "\n",
    "    -- randomly select one of those to be given to model B\n",
    "    local label = torch.bernoulli() + 1\n",
    "    im_feat[3] = im_feat[label]:clone()\n",
    "\n",
    "    -- randomly select one of the images to ask about its class\n",
    "    local ques = torch.Tensor(42):fill(0)\n",
    "    ques[labels[y[torch.bernoulli() + 1]]] = 1\n",
    "\n",
    "    -- target is probability of label = 2\n",
    "    local target = label - 1\n",
    "\n",
    "    -- Testing\n",
    "    -- outfile:write(im1_Path)\n",
    "    -- outfile:write(im2_Path)\n",
    "    -- outfile:write(y[1], y[2])\n",
    "    -- outfile:write(label)\n",
    "    -- outfile:write(ques[y[1]], ques[y[2]])\n",
    "    \n",
    "    local input = {im_feat[1], im_feat[2], im_feat[3], ques}\n",
    "    \n",
    "    return {input, target}\n",
    "end\n",
    "\n",
    "function do_weight_decay(model, wd)\n",
    "    lin_modules = model:findModules('nn.Linear');\n",
    "    for i = 1,#lin_modules do\n",
    "        m = torch.mul(lin_modules[i].weight, wd);\n",
    "        lin_modules[i].gradWeight = lin_modules[i].gradWeight + m;\n",
    "    end\n",
    "end\n",
    "\n",
    "function get_pred_err(prob, target)\n",
    "\n",
    "    local pred = 2\n",
    "    if(prob[1] < 0.5) then\n",
    "        pred = 1\n",
    "    end\n",
    "\n",
    "    local pred_err = 0\n",
    "    if pred ~= target+1 then\n",
    "        pred_err = 1\n",
    "    end\n",
    "\n",
    "    return pred_err\n",
    "end\n",
    "\n",
    "-- Use a typical generic gradient update function\n",
    "function accumulate(model, input, target, criterion, eval_criterion, batch_size, wd)\n",
    "    local prob = model:forward(input)\n",
    "    local loss = criterion:forward(prob, torch.Tensor{target})\n",
    "    local gradCriterion = criterion:backward(prob, torch.Tensor{target})\n",
    "    model:backward(input, gradCriterion, 1/batch_size)\n",
    "    do_weight_decay(model, wd)\n",
    "    local pred_err = get_pred_err(prob, target)\n",
    "    -- print('prob = ', prob)\n",
    "    return loss, pred_err\n",
    "end\n",
    "\n",
    "\n",
    "-- function to evalaute the model\n",
    "function evalPerf(model, criterion, set, labels, iter)\n",
    "\n",
    "    outfile = io.open(\"train_C.out\", \"a\")\n",
    "    outfile:write('Testing... ')\n",
    "    outfile:close()\n",
    "\n",
    "    local test_loss = 0\n",
    "    local test_pred_err = 0\n",
    "\n",
    "    -- FOR DEBUGGING only\n",
    "    -- set the random seed so that same batch is chosen always. Make sure error goes down\n",
    "    -- torch.manualSeed(3489208)\n",
    "\n",
    "    for j = 1, iter do\n",
    "        example = getCtrainExample(set, labels)\n",
    "        input = example[1]\n",
    "        target = example[2]\n",
    "        local prob = model:forward({input[1], input[2], input[3], input[4]})\n",
    "        local samp_loss = criterion:forward(prob, torch.Tensor{target})\n",
    "        local pred_err = get_pred_err(prob, target)\n",
    "        test_pred_err = test_pred_err + pred_err\n",
    "        test_loss = test_loss + samp_loss\n",
    "    end\n",
    "\n",
    "    outfile = io.open(\"train_C.out\", \"a\")\n",
    "    outfile:write('average test_loss = ', test_loss/iter, ', ')\n",
    "    outfile:write('average test_pred_err = ', test_pred_err/iter, '\\n')\n",
    "    outfile:close()\n",
    "end\n",
    "\n",
    "\n",
    "-- get some essential functions\n",
    "-- outfile = io.open(\"train_C.out\", \"w\")\n",
    "-- outfile:write('Running string split... ')\n",
    "-- dofile('string_split.lua')\n",
    "-- outfile:write('done\\n')\n",
    "-- outfile:close()\n",
    "\n",
    "-- outfile = io.open(\"train_C.out\", \"a\")\n",
    "-- outfile:write('Running getImPaths... ')\n",
    "-- dofile('getImPaths.lua')\n",
    "-- outfile:write('done\\n')\n",
    "-- outfile:close()\n",
    "\n",
    "-- Laod the original model and creat BC model\n",
    "outfile = io.open(\"train_C.out\", \"w\")\n",
    "outfile:write('Loading pretrained model... ')\n",
    "\n",
    "B_model = torch.load('B_model_nn.t7')\n",
    "C_model = torch.load('C_model__1500.t7')\n",
    "BC_model = createFullModel(B_model, C_model)\n",
    "-- ABC_model = createFullModel(A_model, B_model, C_model, encoders);\n",
    "\n",
    "-- convert to double\n",
    "BC_model:double()\n",
    "\n",
    "outfile:write('done\\n')\n",
    "outfile:close()\n",
    "\n",
    "\n",
    "-- read preprocessed feature vectors and labels\n",
    "feat_vecs = torch.load('feat_vecs.t7')\n",
    "labels = torch.load('labels.t7')\n",
    "\n",
    "-- TO DO : random shuffle of data\n",
    "-- y = torch.randperm(#feat_vecs)\n",
    "\n",
    "-- generate trainset and testset\n",
    "train_perc = 0.80 -- percentage of images in the train set\n",
    "trainset_size = torch.round((#feat_vecs)[1] * train_perc)\n",
    "trainset = feat_vecs[{{1, trainset_size}}]\n",
    "train_labels = labels[{{1, trainset_size}}]\n",
    "testset = feat_vecs[{{trainset_size+1, (#feat_vecs)[1]}}]\n",
    "test_labels = labels[{{trainset_size+1, (#feat_vecs)[1]}}]\n",
    "\n",
    "-- put the model in evalaute mode\n",
    "BC_model:evaluate()\n",
    "\n",
    "crit = nn.BCECriterion()\n",
    "eval_crit = crit\n",
    "lr = 2\n",
    "attr_lr = 0.5\n",
    "batch_size = 512\n",
    "max_train_iter = 10000\n",
    "test_interval = 50\n",
    "test_iter = 1000\n",
    "lr_stepsize = 100\n",
    "gamma = 0.7\n",
    "attr_gamma = 1\n",
    "wd = 0\n",
    "snapshot_interval = 100\n",
    "snapshot_prefix = './'\n",
    "snapshot = false\n",
    "-- TO DO : Add weight decay\n",
    "\n",
    "-- Start training\n",
    "outfile = io.open('train_C.out', 'a')\n",
    "outfile:write('Training with snapshotting ')\n",
    "if snapshot then\n",
    "    outfile:write('enabled... \\n')\n",
    "else\n",
    "    outfile:write('disabled... \\n')\n",
    "end\n",
    "outfile:close()"
   ]
  },
  {
   "cell_type": "code",
   "execution_count": null,
   "metadata": {
    "collapsed": true
   },
   "outputs": [],
   "source": [
    "-- local method = 'xavier';\n",
    "-- C_model.modules[2] = require('weight-init')(C_model.modules[2], method)\n",
    "-- C_model.modules[6] = require('weight-init')(C_model.modules[6], method)\n",
    "\n",
    "-- C_model.modules[2]:reset(0.01);\n",
    "-- C_model.modules[6]:reset(0.01);\n",
    "C_model.modules[10].modules[1].weight:mul(0.3)\n",
    "C_model.modules[10].modules[3].weight:mul(0.3)\n",
    "C_model.modules[10].modules[1].bias:mul(0.3)\n",
    "C_model.modules[10].modules[3].bias:mul(0.3)"
   ]
  },
  {
   "cell_type": "code",
   "execution_count": null,
   "metadata": {
    "collapsed": true
   },
   "outputs": [],
   "source": [
    "for i = 1, max_train_iter do\n",
    "\n",
    "    -- initial testing\n",
    "    if i == 1 then\n",
    "        evalPerf(BC_model, eval_crit, testset, test_labels, test_iter)\n",
    "    end\n",
    "\n",
    "    BC_model:zeroGradParameters()\n",
    "    local batch_loss = 0\n",
    "\n",
    "    -- FOR DEBUGGING only\n",
    "    -- set the random seed so that same batch is chosen always. Make sure error goes down\n",
    "    -- torch.manualSeed(214325)\n",
    "\n",
    "    local train_pred_err = 0\n",
    "    for j = 1, batch_size do\n",
    "        example = getCtrainExample(trainset, train_labels)\n",
    "        input = example[1]\n",
    "        target = example[2]\n",
    "        local loss = 0\n",
    "        local pred_err = 0\n",
    "        loss, pred_err = accumulate(BC_model, {input[1], input[2], input[3], input[4]}, target, crit, eval_crit, batch_size, wd)\n",
    "        batch_loss = batch_loss + loss\n",
    "        train_pred_err = train_pred_err + pred_err;\n",
    "        -- print(C_model.modules[9].output)\n",
    "        -- print('loss =', loss)\n",
    "        -- print(target)\n",
    "    end\n",
    "\n",
    "    -- update parameters for only a few layers in C\n",
    "    -- C_model.modules[2]:updateParameters(attr_lr)\n",
    "    -- C_model.modules[6]:updateParameters(attr_lr)\n",
    "    -- C_model.modules[10]:updateParameters(lr)\n",
    "\n",
    "    outfile = io.open(\"train_C.out\", \"a\")\n",
    "    outfile:write('Iteration no. ', i, ', lr = ', lr, ', attr_lr = ', attr_lr, ', batch_loss = ', batch_loss/batch_size, ', train_err = ', train_pred_err/batch_size, '\\n')\n",
    "    outfile:close()\n",
    "\n",
    "    if i % test_interval == 0 then\n",
    "        evalPerf(BC_model, eval_crit, testset, test_labels, test_iter)        \n",
    "    end\n",
    "\n",
    "    if i % lr_stepsize == 0 then\n",
    "        lr = lr * gamma;\n",
    "        attr_lr = attr_lr * attr_gamma;\n",
    "    end\n",
    "\n",
    "    if snapshot and (i % snapshot_interval == 0) then\n",
    "\n",
    "        outfile = io.open(\"train_C.out\", \"a\")\n",
    "\n",
    "        outfile:write('Snapshotting C_model... ')\n",
    "        snapshot_filename_C = snapshot_prefix .. 'C_model__' .. tostring(i) .. '.t7'\n",
    "        C_model:clearState()\n",
    "        torch.save(snapshot_filename_C, C_model)\n",
    "        outfile:write('done\\n')\n",
    "\n",
    "        outfile:close()\n",
    "\n",
    "    end\n",
    "\n",
    "end"
   ]
  },
  {
   "cell_type": "code",
   "execution_count": 2,
   "metadata": {
    "collapsed": true
   },
   "outputs": [],
   "source": [
    "dummy_model = C_model.modules[10]:clone()\n",
    "dummy_model.modules[1].weight:mul(0.3)\n",
    "dummy_model.modules[3].weight:mul(0.3)\n",
    "dummy_model.modules[1].bias:mul(0.3)\n",
    "dummy_model.modules[3].bias:mul(0.09)"
   ]
  },
  {
   "cell_type": "code",
   "execution_count": 3,
   "metadata": {
    "collapsed": false
   },
   "outputs": [],
   "source": [
    "input = torch.rand(3)\n",
    "output1 = C_model.modules[10]:forward(input)\n",
    "output2 = dummy_model:forward(input)\n",
    "\n",
    "-- print(C_model.modules[10])\n",
    "-- print(dummy_model)"
   ]
  },
  {
   "cell_type": "code",
   "execution_count": 4,
   "metadata": {
    "collapsed": false
   },
   "outputs": [
    {
     "data": {
      "text/plain": [
       "-0.0201\n",
       "-0.1310\n",
       "[torch.DoubleTensor of size 2]\n",
       "\n",
       "-0.0201\n",
       "-0.1310\n",
       "[torch.DoubleTensor of size 2]\n",
       "\n"
      ]
     },
     "execution_count": 4,
     "metadata": {},
     "output_type": "execute_result"
    }
   ],
   "source": [
    "print(C_model.modules[10].modules[1].output * 0.3)\n",
    "print(dummy_model.modules[1].output)"
   ]
  },
  {
   "cell_type": "code",
   "execution_count": 5,
   "metadata": {
    "collapsed": false
   },
   "outputs": [
    {
     "data": {
      "text/plain": [
       " 0.0201\n",
       " 0.1310\n",
       "[torch.DoubleTensor of size 2]\n",
       "\n",
       " 0.0201\n",
       " 0.1310\n",
       "[torch.DoubleTensor of size 2]\n",
       "\n"
      ]
     },
     "execution_count": 5,
     "metadata": {},
     "output_type": "execute_result"
    }
   ],
   "source": [
    "print(C_model.modules[10].modules[2].output * 0.3)\n",
    "print(dummy_model.modules[2].output)"
   ]
  },
  {
   "cell_type": "code",
   "execution_count": 6,
   "metadata": {
    "collapsed": false
   },
   "outputs": [
    {
     "data": {
      "text/plain": [
       "-1.8527 -0.5693\n",
       "[torch.DoubleTensor of size 1x2]\n",
       "\n",
       "-1.8527 -0.5693\n",
       "[torch.DoubleTensor of size 1x2]\n",
       "\n",
       " 0.9342\n",
       "[torch.DoubleTensor of size 1]\n",
       "\n",
       " 0.2803\n",
       "[torch.DoubleTensor of size 1]\n",
       "\n"
      ]
     },
     "execution_count": 6,
     "metadata": {},
     "output_type": "execute_result"
    }
   ],
   "source": [
    "print(C_model.modules[10].modules[3].weight * 0.3)\n",
    "print(dummy_model.modules[3].weight)\n",
    "\n",
    "print(C_model.modules[10].modules[3].bias * 0.3)\n",
    "print(dummy_model.modules[3].bias)"
   ]
  },
  {
   "cell_type": "code",
   "execution_count": 7,
   "metadata": {
    "collapsed": false
   },
   "outputs": [
    {
     "data": {
      "text/plain": [
       " 0.1685\n",
       "[torch.DoubleTensor of size 1]\n",
       "\n",
       " 0.1685\n",
       "[torch.DoubleTensor of size 1]\n",
       "\n"
      ]
     },
     "execution_count": 7,
     "metadata": {},
     "output_type": "execute_result"
    }
   ],
   "source": [
    "print(C_model.modules[10].modules[3].output * 0.09)\n",
    "print(dummy_model.modules[3].output)"
   ]
  },
  {
   "cell_type": "code",
   "execution_count": null,
   "metadata": {
    "collapsed": true
   },
   "outputs": [],
   "source": []
  }
 ],
 "metadata": {
  "kernelspec": {
   "display_name": "iTorch",
   "language": "lua",
   "name": "itorch"
  },
  "language_info": {
   "name": "lua",
   "version": "5.1"
  }
 },
 "nbformat": 4,
 "nbformat_minor": 0
}
