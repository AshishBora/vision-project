{
 "cells": [
  {
   "cell_type": "code",
   "execution_count": 2,
   "metadata": {
    "collapsed": false
   },
   "outputs": [],
   "source": [
    "require 'nngraph'\n",
    "\n",
    "h1 = nn.Linear(20, 20)()\n",
    "h2 = nn.Linear(10, 10)()\n",
    "hh1 = nn.Linear(20, 1)(nn.Tanh()(h1))\n",
    "hh2 = nn.Linear(10, 1)(nn.Tanh()(h2))\n",
    "madd = nn.CAddTable()({hh1, hh2})\n",
    "oA = nn.Sigmoid()(madd)\n",
    "oB = nn.Tanh()(madd)\n",
    "gmod = nn.gModule({h1, h2}, {oA, oB})\n"
   ]
  },
  {
   "cell_type": "code",
   "execution_count": 3,
   "metadata": {
    "collapsed": false
   },
   "outputs": [
    {
     "data": {
      "text/plain": [
       "nn.Linear(20 -> 20)\n",
       "{\n",
       "  gradBias : DoubleTensor - size: 20\n",
       "  weight : DoubleTensor - size: 20x20\n",
       "  _type : torch.DoubleTensor\n",
       "  output : DoubleTensor - empty\n",
       "  gradInput : DoubleTensor - empty\n",
       "  bias : DoubleTensor - size: 20\n",
       "  gradWeight : DoubleTensor - size: 20x20\n",
       "}\n",
       "nn.Tanh\n",
       "{\n",
       "  gradInput : DoubleTensor - empty\n",
       "  _type : torch.DoubleTensor\n",
       "  output : DoubleTensor - empty\n",
       "}\n",
       "nn.Linear(20 -> 1)\n",
       "{\n",
       "  gradBias : DoubleTensor - size: 1\n",
       "  weight : DoubleTensor - size: 1x20\n",
       "  _type : torch.DoubleTensor\n",
       "  output : DoubleTensor - empty\n",
       "  gradInput : DoubleTensor - empty\n",
       "  bias : DoubleTensor - size: 1\n",
       "  gradWeight : DoubleTensor - size: 1x20\n",
       "}\n",
       "nn.Linear(10 -> 10)\n",
       "{\n",
       "  gradBias : DoubleTensor - size: 10\n",
       "  weight : DoubleTensor - size: 10x10\n",
       "  _type : torch.DoubleTensor\n",
       "  output : DoubleTensor - empty\n",
       "  gradInput : DoubleTensor - empty\n",
       "  bias : DoubleTensor - size: 10\n",
       "  gradWeight : DoubleTensor - size: 10x10\n",
       "}\n",
       "nn.Tanh\n",
       "{\n",
       "  gradInput : DoubleTensor - empty\n",
       "  _type : torch.DoubleTensor\n",
       "  output : DoubleTensor - empty\n",
       "}\n",
       "nn.Linear(10 -> 1)\n",
       "{\n",
       "  gradBias : DoubleTensor - size: 1\n",
       "  weight : DoubleTensor - size: 1x10\n",
       "  _type : torch.DoubleTensor\n",
       "  output : DoubleTensor - empty\n",
       "  gradInput : DoubleTensor - empty\n",
       "  bias : DoubleTensor - size: 1\n",
       "  gradWeight : DoubleTensor - size: 1x10\n",
       "}\n",
       "nn.CAddTable\n",
       "{\n",
       "  gradInput : table: 0x1015c970\n",
       "  _type : torch.DoubleTensor\n",
       "  output : DoubleTensor - empty\n",
       "}\n",
       "nn.Sigmoid\n",
       "{\n",
       "  gradInput : DoubleTensor - empty\n",
       "  _type : torch.DoubleTensor\n",
       "  output : DoubleTensor - empty\n",
       "}\n",
       "nn.Tanh\n",
       "{\n",
       "  gradInput : DoubleTensor - empty\n",
       "  _type : torch.DoubleTensor\n",
       "  output : DoubleTensor - empty\n",
       "}\n"
      ]
     },
     "execution_count": 3,
     "metadata": {},
     "output_type": "execute_result"
    }
   ],
   "source": [
    "for indexNode, node in ipairs(gmod.forwardnodes) do\n",
    "  if node.data.module then\n",
    "    print(node.data.module)\n",
    "  end\n",
    "end"
   ]
  },
  {
   "cell_type": "code",
   "execution_count": null,
   "metadata": {
    "collapsed": true
   },
   "outputs": [],
   "source": []
  }
 ],
 "metadata": {
  "kernelspec": {
   "display_name": "iTorch",
   "language": "lua",
   "name": "itorch"
  },
  "language_info": {
   "name": "lua",
   "version": "5.1"
  }
 },
 "nbformat": 4,
 "nbformat_minor": 0
}
