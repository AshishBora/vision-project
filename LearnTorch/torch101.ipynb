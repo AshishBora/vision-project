{
 "cells": [
  {
   "cell_type": "code",
   "execution_count": 1,
   "metadata": {
    "collapsed": false
   },
   "outputs": [
    {
     "data": {
      "text/plain": [
       "\n"
      ]
     },
     "execution_count": 1,
     "metadata": {},
     "output_type": "execute_result"
    }
   ],
   "source": [
    "-- This is a comment\n",
    "\n",
    "--[[\n",
    "This is a multiline comment\n",
    "Really, there are two lines\n",
    "And more\n",
    "]]"
   ]
  },
  {
   "cell_type": "code",
   "execution_count": 2,
   "metadata": {
    "collapsed": true
   },
   "outputs": [],
   "source": [
    "num = -1  -- All numbers are doubles."
   ]
  },
  {
   "cell_type": "code",
   "execution_count": 3,
   "metadata": {
    "collapsed": true
   },
   "outputs": [],
   "source": [
    "s = 'walternate'  -- Immutable strings like Python.\n",
    "t = \"double-quotes are also fine\"\n",
    "u = [[Double brackets\n",
    "start and end\n",
    "multi-line strings.]]"
   ]
  },
  {
   "cell_type": "code",
   "execution_count": 4,
   "metadata": {
    "collapsed": false
   },
   "outputs": [],
   "source": [
    "t = nil  -- Undefines t; Lua has garbage collection."
   ]
  },
  {
   "cell_type": "code",
   "execution_count": 5,
   "metadata": {
    "collapsed": false
   },
   "outputs": [],
   "source": [
    "-- Blocks are denoted with keywords like do/end:\n",
    "while num < 50 do\n",
    "  num = num + 1  -- No ++ or += type operators.\n",
    "end"
   ]
  },
  {
   "cell_type": "code",
   "execution_count": 6,
   "metadata": {
    "collapsed": false
   },
   "outputs": [
    {
     "data": {
      "text/plain": [
       "over 40\t\n"
      ]
     },
     "execution_count": 6,
     "metadata": {},
     "output_type": "execute_result"
    }
   ],
   "source": [
    "-- If clauses:\n",
    "if num > 40 then\n",
    "    print('over 40')\n",
    "elseif s ~= 'walternate' then  -- ~= is not equals.\n",
    "    -- Equality check is == like Python; ok for strs.\n",
    "    io.write('not over 40\\n')  -- Defaults to stdout.\n",
    "else\n",
    "    -- Variables are global by default.\n",
    "    thisIsGlobal = 5  -- Camel case is common.\n",
    "    \n",
    "    -- How to make a variable local:\n",
    "    -- local line = io.read()  -- Reads next stdin line.\n",
    "    local line = 'Haha'  -- Reads next stdin line.\n",
    "    \n",
    "    -- String concatenation uses the .. operator:\n",
    "    print('Winter is coming, ' .. line)\n",
    "end"
   ]
  },
  {
   "cell_type": "code",
   "execution_count": 7,
   "metadata": {
    "collapsed": false
   },
   "outputs": [
    {
     "data": {
      "text/plain": [
       "twas false\t\n",
       "0\t\t\n"
      ]
     },
     "execution_count": 7,
     "metadata": {},
     "output_type": "execute_result"
    }
   ],
   "source": [
    "-- Undefined variables return nil.\n",
    "-- This is not an error:\n",
    "foo = anUnknownVariable  -- Now foo = nil.\n",
    "\n",
    "aBoolValue = false\n",
    "\n",
    "-- Only nil and false are falsy; 0 and '' are true!\n",
    "if not aBoolValue then print('twas false') end\n",
    "\n",
    "a = 0\n",
    "b = ''\n",
    "if a and b then\n",
    "    print(a, b)\n",
    "end"
   ]
  },
  {
   "cell_type": "code",
   "execution_count": 8,
   "metadata": {
    "collapsed": false
   },
   "outputs": [
    {
     "data": {
      "text/plain": [
       "5050\t\n"
      ]
     },
     "execution_count": 8,
     "metadata": {},
     "output_type": "execute_result"
    }
   ],
   "source": [
    "karlSum = 0\n",
    "for i = 1, 100 do  -- The range includes both ends.\n",
    "  karlSum = karlSum + i\n",
    "end\n",
    "\n",
    "print(karlSum)"
   ]
  },
  {
   "cell_type": "code",
   "execution_count": 53,
   "metadata": {
    "collapsed": false
   },
   "outputs": [
    {
     "data": {
      "text/plain": [
       "5050\t\n"
      ]
     },
     "execution_count": 53,
     "metadata": {},
     "output_type": "execute_result"
    }
   ],
   "source": [
    "-- Use \"100, 1, -1\" as the range to count down:\n",
    "fredSum = 0\n",
    "for j = 100, 1, -1 do fredSum = fredSum + j end\n",
    "\n",
    "-- In general, the range is begin, end[, step].\n",
    "print(fredSum)"
   ]
  },
  {
   "cell_type": "code",
   "execution_count": 13,
   "metadata": {
    "collapsed": false
   },
   "outputs": [
    {
     "data": {
      "text/plain": [
       "the way of the future\t\n"
      ]
     },
     "execution_count": 13,
     "metadata": {},
     "output_type": "execute_result"
    }
   ],
   "source": [
    "-- Another loop construct:\n",
    "repeat\n",
    "  print('the way of the future')\n",
    "  num = num - 1\n",
    "until num < 0"
   ]
  },
  {
   "cell_type": "code",
   "execution_count": 15,
   "metadata": {
    "collapsed": true
   },
   "outputs": [],
   "source": [
    "function fib(n)\n",
    "    if n < 2 then\n",
    "        return 1\n",
    "    end\n",
    "    return fib(n - 2) + fib(n - 1)\n",
    "end"
   ]
  },
  {
   "cell_type": "code",
   "execution_count": 24,
   "metadata": {
    "collapsed": false
   },
   "outputs": [
    {
     "data": {
      "text/plain": [
       "25\t\n",
       "100\t\n"
      ]
     },
     "execution_count": 24,
     "metadata": {},
     "output_type": "execute_result"
    }
   ],
   "source": [
    "-- Closures and anonymous functions are ok:\n",
    "function adder(x)\n",
    "    -- The returned function is created when adder is\n",
    "    -- called, and remembers the value of x:\n",
    "    return function (y) return x + y end\n",
    "end\n",
    "a1 = adder(9)\n",
    "a2 = adder(36)\n",
    "print(a1(16))  --> 25\n",
    "print(a2(64))  --> 100"
   ]
  },
  {
   "cell_type": "code",
   "execution_count": 27,
   "metadata": {
    "collapsed": false
   },
   "outputs": [
    {
     "data": {
      "text/plain": [
       "-3\t\n"
      ]
     },
     "execution_count": 27,
     "metadata": {},
     "output_type": "execute_result"
    }
   ],
   "source": [
    "print(num)"
   ]
  },
  {
   "cell_type": "code",
   "execution_count": 39,
   "metadata": {
    "collapsed": false
   },
   "outputs": [
    {
     "data": {
      "text/plain": [
       "tau\t\n"
      ]
     },
     "execution_count": 39,
     "metadata": {},
     "output_type": "execute_result"
    }
   ],
   "source": [
    "u = {['@!#'] = 'qbert', [{}] = 1729, [{}] = 1234, [6.28] = 'tau'}\n",
    "print(u[6.28])  -- prints \"tau\""
   ]
  },
  {
   "cell_type": "code",
   "execution_count": 40,
   "metadata": {
    "collapsed": false
   },
   "outputs": [
    {
     "data": {
      "text/plain": [
       "Sonmi~451\t\n"
      ]
     },
     "execution_count": 40,
     "metadata": {},
     "output_type": "execute_result"
    }
   ],
   "source": [
    "-- A one-table-param function call needs no parens:\n",
    "function h(x)\n",
    "    print(x.key1)\n",
    "end\n",
    "h{key1 = 'Sonmi~451'}  -- Prints 'Sonmi~451'."
   ]
  },
  {
   "cell_type": "code",
   "execution_count": null,
   "metadata": {
    "collapsed": true
   },
   "outputs": [],
   "source": [
    "for key, val in pairs(u) do  -- Table iteration.\n",
    "    print(key, val)\n",
    "end"
   ]
  },
  {
   "cell_type": "code",
   "execution_count": 12,
   "metadata": {
    "collapsed": false
   },
   "outputs": [],
   "source": [
    "f1 = {a = 1, b = 2}  -- Represents the fraction a/b.\n",
    "f2 = {a = 2, b = 3}\n",
    "\n",
    "-- This would fail:\n",
    "-- s = f1 + f2\n",
    "\n",
    "metafraction = {}\n",
    "function metafraction.__add(f1, f2)\n",
    "    sum = {}\n",
    "    sum.b = f1.b * f2.b\n",
    "    sum.a = f1.a * f2.b + f2.a * f1.b\n",
    "    return sum\n",
    "end\n",
    "\n",
    "setmetatable(f1, metafraction)\n",
    "setmetatable(f2, metafraction)\n",
    "\n",
    "s = f1 + f2  -- call __add(f1, f2) on f1's metatable"
   ]
  },
  {
   "cell_type": "code",
   "execution_count": 13,
   "metadata": {
    "collapsed": false
   },
   "outputs": [
    {
     "data": {
      "text/plain": [
       "{\n",
       "  __add : function: 0x0e7c9b60\n",
       "}\n"
      ]
     },
     "execution_count": 13,
     "metadata": {},
     "output_type": "execute_result"
    }
   ],
   "source": [
    "getmetatable(f1)"
   ]
  },
  {
   "cell_type": "code",
   "execution_count": 3,
   "metadata": {
    "collapsed": false
   },
   "outputs": [
    {
     "data": {
      "text/plain": [
       "0\t\n"
      ]
     },
     "execution_count": 3,
     "metadata": {},
     "output_type": "execute_result"
    }
   ],
   "source": [
    "torch.bernoulli()"
   ]
  },
  {
   "cell_type": "code",
   "execution_count": 9,
   "metadata": {
    "collapsed": false
   },
   "outputs": [],
   "source": [
    "q = torch.Tensor(1000):fill(0)\n",
    "q[4] = 1\n",
    "-- print(q)"
   ]
  },
  {
   "cell_type": "code",
   "execution_count": 10,
   "metadata": {
    "collapsed": true
   },
   "outputs": [],
   "source": [
    "a, b, c = 1, 2, 3"
   ]
  }
 ],
 "metadata": {
  "kernelspec": {
   "display_name": "iTorch",
   "language": "lua",
   "name": "itorch"
  },
  "language_info": {
   "name": "lua",
   "version": "5.1"
  }
 },
 "nbformat": 4,
 "nbformat_minor": 0
}
